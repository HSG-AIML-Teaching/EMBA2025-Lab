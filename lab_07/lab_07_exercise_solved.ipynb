{
  "cells": [
    {
      "cell_type": "markdown",
      "source": [
        "# Exercise 1: Trading insights from a fixed list of companies\n",
        "In this exercise, you will get actionable insights for investment based on recent trading results of the companies you are investing in.\n",
        "\n",
        "(1) You will first retrieve a list of ticker symbols for companies, then\n",
        "\n",
        "(2) retrieve the trading results for these companies from Google, then\n",
        "\n",
        "(3) define a function using the OpenAI API to generate a report of the results and\n",
        "\n",
        "(4) define a function to generate actionable insights based on the report, and finally\n",
        "\n",
        "(5) combine the two functions into a sequential chain.\n",
        "\n",
        "To accomplish this, you can expand the code provided below:"
      ],
      "metadata": {
        "id": "v7iWPXagdQhK"
      }
    },
    {
      "cell_type": "markdown",
      "source": [
        "###Setup\n",
        "First, make the necessary imports."
      ],
      "metadata": {
        "id": "asugYFtKJUsQ"
      }
    },
    {
      "cell_type": "code",
      "execution_count": 1,
      "metadata": {
        "id": "6iiGJtSmt1H5",
        "colab": {
          "base_uri": "https://localhost:8080/"
        },
        "outputId": "3ab5e9d1-30b7-4950-852f-0718b7a3ecba"
      },
      "outputs": [
        {
          "output_type": "stream",
          "name": "stdout",
          "text": [
            "\u001b[?25l   \u001b[90m━━━━━━━━━━━━━━━━━━━━━━━━━━━━━━━━━━━━━━━━\u001b[0m \u001b[32m0.0/2.5 MB\u001b[0m \u001b[31m?\u001b[0m eta \u001b[36m-:--:--\u001b[0m\r\u001b[2K   \u001b[91m━━━━━━━━━━━━━━━━━━━━━━━━━━━━━━━━━━━━━━━\u001b[0m\u001b[91m╸\u001b[0m \u001b[32m2.5/2.5 MB\u001b[0m \u001b[31m146.7 MB/s\u001b[0m eta \u001b[36m0:00:01\u001b[0m\r\u001b[2K   \u001b[90m━━━━━━━━━━━━━━━━━━━━━━━━━━━━━━━━━━━━━━━━\u001b[0m \u001b[32m2.5/2.5 MB\u001b[0m \u001b[31m64.0 MB/s\u001b[0m eta \u001b[36m0:00:00\u001b[0m\n",
            "\u001b[?25h\u001b[?25l   \u001b[90m━━━━━━━━━━━━━━━━━━━━━━━━━━━━━━━━━━━━━━━━\u001b[0m \u001b[32m0.0/54.5 kB\u001b[0m \u001b[31m?\u001b[0m eta \u001b[36m-:--:--\u001b[0m\r\u001b[2K   \u001b[90m━━━━━━━━━━━━━━━━━━━━━━━━━━━━━━━━━━━━━━━━\u001b[0m \u001b[32m54.5/54.5 kB\u001b[0m \u001b[31m4.9 MB/s\u001b[0m eta \u001b[36m0:00:00\u001b[0m\n",
            "\u001b[?25h\u001b[?25l   \u001b[90m━━━━━━━━━━━━━━━━━━━━━━━━━━━━━━━━━━━━━━━━\u001b[0m \u001b[32m0.0/412.7 kB\u001b[0m \u001b[31m?\u001b[0m eta \u001b[36m-:--:--\u001b[0m\r\u001b[2K   \u001b[90m━━━━━━━━━━━━━━━━━━━━━━━━━━━━━━━━━━━━━━━━\u001b[0m \u001b[32m412.7/412.7 kB\u001b[0m \u001b[31m30.1 MB/s\u001b[0m eta \u001b[36m0:00:00\u001b[0m\n",
            "\u001b[?25h\u001b[?25l   \u001b[90m━━━━━━━━━━━━━━━━━━━━━━━━━━━━━━━━━━━━━━━━\u001b[0m \u001b[32m0.0/1.2 MB\u001b[0m \u001b[31m?\u001b[0m eta \u001b[36m-:--:--\u001b[0m\r\u001b[2K   \u001b[90m━━━━━━━━━━━━━━━━━━━━━━━━━━━━━━━━━━━━━━━━\u001b[0m \u001b[32m1.2/1.2 MB\u001b[0m \u001b[31m55.0 MB/s\u001b[0m eta \u001b[36m0:00:00\u001b[0m\n",
            "\u001b[?25h\u001b[?25l   \u001b[90m━━━━━━━━━━━━━━━━━━━━━━━━━━━━━━━━━━━━━━━━\u001b[0m \u001b[32m0.0/50.9 kB\u001b[0m \u001b[31m?\u001b[0m eta \u001b[36m-:--:--\u001b[0m\r\u001b[2K   \u001b[90m━━━━━━━━━━━━━━━━━━━━━━━━━━━━━━━━━━━━━━━━\u001b[0m \u001b[32m50.9/50.9 kB\u001b[0m \u001b[31m4.6 MB/s\u001b[0m eta \u001b[36m0:00:00\u001b[0m\n",
            "\u001b[?25h"
          ]
        }
      ],
      "source": [
        "!pip install -q langchain langchain-community langchain-core langchain-openai\n",
        "\n",
        "from google.colab import userdata\n",
        "from transformers import pipeline\n",
        "from langchain.chains import SequentialChain, LLMChain\n",
        "from langchain_core.prompts import PromptTemplate\n",
        "from langchain_community.utilities import GoogleSerperAPIWrapper\n",
        "from langchain_community.document_loaders import CSVLoader\n",
        "from langchain_openai import ChatOpenAI\n",
        "import ast\n",
        "import os\n",
        "import pprint\n",
        "import getpass\n",
        "from IPython.display import Markdown"
      ]
    },
    {
      "cell_type": "markdown",
      "source": [
        "Then, assign the API keys to be able to use Google Serper and OpenAI.\n",
        "\n",
        "When working with sensitive information like API keys or passwords in Google Colab, it's crucial to handle data securely. As you learnt in the tutorial session, two common approaches for this are using **Colab's Secrets Manager**, which stores and retrieves secrets without exposing them in the notebook, and `getpass`, a Python function that securely prompts users to input secrets during runtime without showing them. Both methods help ensure your sensitive data remains protected."
      ],
      "metadata": {
        "id": "qviEHKsjTZ1a"
      }
    },
    {
      "cell_type": "code",
      "source": [
        "#When using Colab Secret Manager\n",
        "os.environ[\"SERPER_API_KEY\"] = userdata.get('SERPER_API_KEY')\n",
        "#When using getpass\n",
        "#os.environ['SERPER_API_KEY'] = getpass.getpass()\n",
        "\n",
        "#When using Colab Secret Manager\n",
        "os.environ[\"OPENAI_API_KEY\"] = userdata.get('OPENAI_API_KEY')\n",
        "#When using getpass\n",
        "#os.environ['OPENAI_API_KEY'] = getpass.getpass()"
      ],
      "metadata": {
        "id": "9h1QKVPyTYTL"
      },
      "execution_count": 2,
      "outputs": []
    },
    {
      "cell_type": "markdown",
      "source": [
        "Lastly, define the search model and the llm."
      ],
      "metadata": {
        "id": "66ld9xWlTnTZ"
      }
    },
    {
      "cell_type": "code",
      "source": [
        "search = GoogleSerperAPIWrapper()\n",
        "\n",
        "llm = ChatOpenAI(temperature=0.9, model=\"gpt-4o\")"
      ],
      "metadata": {
        "id": "6E0jS92zTitA"
      },
      "execution_count": 3,
      "outputs": []
    },
    {
      "cell_type": "markdown",
      "source": [
        "### Step 1. Load the ticker symbols of the companies you invest in\n",
        "In the first step, you load a list of ticker symbols of companies in the stock market.\n",
        "\n",
        "Here, we assume that the list is predefined with the symbols of Apple, Amazon, Microsoft, and NVIDIA."
      ],
      "metadata": {
        "id": "6ECKcHgMJZTk"
      }
    },
    {
      "cell_type": "code",
      "source": [
        "ticker_symbols = [\"AAPL\", \"AMZN\", \"MSFT\", \"NVDA\"]"
      ],
      "metadata": {
        "id": "fa9sL-KEJkWt"
      },
      "execution_count": 4,
      "outputs": []
    },
    {
      "cell_type": "markdown",
      "source": [
        "### Step 2. Retrieve recent trading results for the ticker symbols\n",
        "\n",
        "Use the `GoogleSerperAPIWrapper` (which you assigned to `search` in the Setup phase) to run a query for each ticker symbol in `ticker_symbols`.\n",
        "\n",
        "**Hint:** To do so, iterate over the individual ticker symbols in the list using the \"`for ... in ...:`\" structure. In each iteration, it is sufficient to just run the search passing the ticker symbol as parameter: the query will return the recent trading results for the respective company. For example, if you search `AAPL`, the result will look like `233.28 -1.12 (0.48%)`.\n",
        "\n",
        "The result of running the queries (one per ticker symbol) should be a concatenation of the individual results in a single string `trading_results`. The structure of this string should be as follows: a ticker symbol, followed by the respective trading result, and then a semicolon (\";\"), followed by the same structure for the remaining symbols. An example for the result is as follows:\n",
        "\n",
        "`AAPL 233.28 -1.12 (0.48%);AMZN 217.76 -0.70 (0.32%);MSFT 415.67 -1.52 (0.36%);NVDA 131.76 -1.47 (1.10%);NVDA 131.76 -1.47 (1.10%);`"
      ],
      "metadata": {
        "id": "OvB31SZIJsfs"
      }
    },
    {
      "cell_type": "code",
      "source": [
        "# Initialize an empty string where to append the results\n",
        "trading_results = \"\"\n",
        "\n",
        "# Iterate over the ticker symbols to run the query and append the results as specified\n",
        "## YOUR CODE (START)\n",
        "for ticker_symbol in ticker_symbols:\n",
        "    result = search.run(ticker_symbol)\n",
        "    trading_results = trading_results + ticker_symbol + \" \" + result + \"; \"\n",
        "## YOUR CODE (END)"
      ],
      "metadata": {
        "id": "HQwdUz0AJJsE"
      },
      "execution_count": 5,
      "outputs": []
    },
    {
      "cell_type": "code",
      "source": [
        "# Display the trading results in Markdown\n",
        "display(Markdown(trading_results))"
      ],
      "metadata": {
        "id": "q-awuZNrSyhd",
        "colab": {
          "base_uri": "https://localhost:8080/",
          "height": 46
        },
        "outputId": "23392867-b656-4f09-f0c7-179661ac982d"
      },
      "execution_count": 6,
      "outputs": [
        {
          "output_type": "display_data",
          "data": {
            "text/plain": [
              "<IPython.core.display.Markdown object>"
            ],
            "text/markdown": "AAPL 232.80 +4.79 (2.10%); AMZN 242.06 +4.64 (1.95%); MSFT 412.37 +1.45 (0.35%); NVDA 118.65 +1.99 (1.71%); "
          },
          "metadata": {}
        }
      ]
    },
    {
      "cell_type": "markdown",
      "source": [
        "### Step 3. Create a prompt template and chain to get a report in natural language for the trading results\n",
        "\n",
        "Use `PromptTemplate` to define a prompt template `report_prompt_template`.\n",
        "\n",
        "The prompt template should take as input variable the string `trading_results` that was generated in the previous step.\n",
        "\n",
        "The template should ask the llm to provide a report for the trading results that are in the input variable.\n",
        "\n",
        "The template should specify that the report must only talk about variations in percent, not in dollars.\n",
        "\n",
        "The template should also specify that the report must have a maximum length, for example of 200 words."
      ],
      "metadata": {
        "id": "Or-d3_4KJ6nt"
      }
    },
    {
      "cell_type": "code",
      "source": [
        "# Define the prompt template\n",
        "## YOUR CODE (START)\n",
        "report_prompt_template = PromptTemplate(\n",
        "    input_variable =[\"trading_results\"],\n",
        "    template = (\"Based on the a list with ticker symbols {trading_results} create a report with a maximum length of 200 words. The report must only talk about variations in percent, not in dollars.\")\n",
        ")\n",
        "## YOUR CODE (END)"
      ],
      "metadata": {
        "id": "o6-ClmPuKAxX"
      },
      "execution_count": 7,
      "outputs": []
    },
    {
      "cell_type": "markdown",
      "source": [
        "Define an `LLMChain` called `report_chain` with:\n",
        "* the `llm` defined in the setup phase as the large language model,\n",
        "*`report_prompt_template` as the prompt,\n",
        "* an output called `textual_report`."
      ],
      "metadata": {
        "id": "xfhgS4k0WkSK"
      }
    },
    {
      "cell_type": "code",
      "source": [
        "# Define the llm chain\n",
        "## YOUR CODE (START)\n",
        "report_chain = LLMChain(llm=llm, prompt=report_prompt_template, output_key=\"textual_report\")\n",
        "## YOUR CODE (END)"
      ],
      "metadata": {
        "id": "rEuC5ywDTAyH",
        "colab": {
          "base_uri": "https://localhost:8080/"
        },
        "outputId": "4c859ca0-a385-4944-8d0d-b78088115ee4"
      },
      "execution_count": 8,
      "outputs": [
        {
          "output_type": "stream",
          "name": "stderr",
          "text": [
            "<ipython-input-8-5d8badc15cf0>:3: LangChainDeprecationWarning: The class `LLMChain` was deprecated in LangChain 0.1.17 and will be removed in 1.0. Use :meth:`~RunnableSequence, e.g., `prompt | llm`` instead.\n",
            "  report_chain = LLMChain(llm=llm, prompt=report_prompt_template, output_key=\"textual_report\")\n"
          ]
        }
      ]
    },
    {
      "cell_type": "markdown",
      "source": [
        "### Step 4. Create a prompt template and chain to generate actionable insights for investors based on the report\n",
        "\n",
        "Use PromptTemplate to define a prompt template `insight_prompt_template`.\n",
        "\n",
        "The prompt template should take as input variable `textual_report`, which is the output of the chain defined in the previous step.\n",
        "\n",
        "The template should ask the llm to provide actionable insights for investors based on the report in the input variable.\n",
        "\n",
        "The template should also specify that the insights for each company mentioned in the report must have a maximum length, e.g., 50 words."
      ],
      "metadata": {
        "id": "W-CaW6D3bqfq"
      }
    },
    {
      "cell_type": "code",
      "source": [
        "# Define the prompt template\n",
        "## YOUR CODE (START)\n",
        "insight_prompt_template = PromptTemplate(\n",
        "    input_variables=[\"textual_report\"],\n",
        "    template=(\n",
        "        \"Based on the following trading report about selected companies, for each mentioned company extract 50-words actionable insights for investors: {textual_report}.\"\n",
        "    )\n",
        ")\n",
        "## YOUR CODE (END)"
      ],
      "metadata": {
        "id": "grjFP9kaTt-G"
      },
      "execution_count": 9,
      "outputs": []
    },
    {
      "cell_type": "markdown",
      "source": [
        "Define an LLMChain called `report_chain` with:\n",
        "* the `llm` defined in the setup phase as the large language model,\n",
        "* `insight_prompt_template` as the prompt,\n",
        "* an output called `insights`."
      ],
      "metadata": {
        "id": "jCuqRVEpYJck"
      }
    },
    {
      "cell_type": "code",
      "source": [
        "# Define the llm chain\n",
        "## YOUR CODE (START)\n",
        "insight_chain = LLMChain(llm=llm, prompt=insight_prompt_template, output_key=\"insights\")\n",
        "## YOUR CODE (END)"
      ],
      "metadata": {
        "id": "_bmrnuF0TMZM"
      },
      "execution_count": 10,
      "outputs": []
    },
    {
      "cell_type": "markdown",
      "source": [
        "### Step 5. Create a sequential chain where the trading results from Step 2 are used as input and the daily report and actionable insights are printed\n",
        "\n",
        "Use `SequentialChain` to define a chain called `complete_chain`, with:\n",
        "* `report_chain` and `insight_chain` as the chains,\n",
        "* `trading_results` as the input variable,\n",
        "* `textual_report` and `insights` as the output variables."
      ],
      "metadata": {
        "id": "vOwYGxJnb6HS"
      }
    },
    {
      "cell_type": "code",
      "source": [
        "# Combine the chains\n",
        "## YOUR CODE (START)\n",
        "complete_chain = SequentialChain(\n",
        "    chains=[report_chain, insight_chain],\n",
        "    input_variables=[\"trading_results\"],\n",
        "    output_variables=[\"textual_report\", \"insights\"]\n",
        ")\n",
        "## YOUR CODE (END)"
      ],
      "metadata": {
        "id": "OK1ELLR_UCvF"
      },
      "execution_count": 11,
      "outputs": []
    },
    {
      "cell_type": "markdown",
      "source": [
        "Invoke the `complete_chain`, passing `trading_results` from Step 2 as the input variable `trading_results`.\n",
        "\n",
        "The result of the complete chain invocation should be assigned to a variable called `final_response`."
      ],
      "metadata": {
        "id": "MTq_PMGPZID-"
      }
    },
    {
      "cell_type": "code",
      "source": [
        "# Run the complete chain\n",
        "## YOUR CODE (START)\n",
        "final_response = complete_chain.invoke({\"trading_results\": trading_results})\n",
        "## YOUR CODE (END)"
      ],
      "metadata": {
        "id": "loi06dELZE8u"
      },
      "execution_count": 12,
      "outputs": []
    },
    {
      "cell_type": "markdown",
      "source": [
        "Lastly, display the results of the chain invocation to read the report and insights:"
      ],
      "metadata": {
        "id": "GvmUtyYvZjgp"
      }
    },
    {
      "cell_type": "code",
      "source": [
        "# Display the result of the chain\n",
        "display(Markdown(final_response[\"textual_report\"]))\n",
        "display(Markdown(final_response[\"insights\"]))"
      ],
      "metadata": {
        "id": "4k-SzL7YZiKF",
        "colab": {
          "base_uri": "https://localhost:8080/",
          "height": 492
        },
        "outputId": "f9332cd8-0fb9-4bde-d4da-e4e6f4807628"
      },
      "execution_count": 13,
      "outputs": [
        {
          "output_type": "display_data",
          "data": {
            "text/plain": [
              "<IPython.core.display.Markdown object>"
            ],
            "text/markdown": "The recent stock performance indicates notable percentage gains across several major technology companies. AAPL (Apple Inc.) experienced a significant increase of 2.10%, marking a robust upward movement in the market. This reflects strong investor confidence and potential positive outlooks in Apple's business operations or market announcements.\n\nSimilarly, AMZN (Amazon.com Inc.) reported a rise of 1.95%. Although slightly less than Apple, this increase still highlights a favorable trend in Amazon’s market performance, suggesting that the company is maintaining its competitive edge and appealing to investors.\n\nNVDA (NVIDIA Corporation) also showed a noteworthy rise with a gain of 1.71%. This increase suggests continued optimism from investors regarding NVIDIA's position in the tech industry, possibly driven by advancements in AI and semiconductor technologies.\n\nOn the other hand, MSFT (Microsoft Corporation) posted a modest gain of 0.35%. While less pronounced than its peers, this percentage change still points to stability and steady growth, which is characteristic of Microsoft’s market presence.\n\nOverall, these companies reflect positive market sentiment, with each demonstrating varying levels of investor confidence and market performance, likely influenced by their respective business strategies and external market conditions."
          },
          "metadata": {}
        },
        {
          "output_type": "display_data",
          "data": {
            "text/plain": [
              "<IPython.core.display.Markdown object>"
            ],
            "text/markdown": "1. **Apple Inc. (AAPL)**: The 2.10% increase in Apple's stock suggests strong investor confidence. Investors might consider this an opportunity to capitalize on anticipated positive business developments or announcements. Monitoring future announcements from Apple could provide further insights into potential growth catalysts and validate the current bullish sentiment.\n\n2. **Amazon.com Inc. (AMZN)**: With a 1.95% rise, Amazon maintains its competitive edge, signaling healthy market performance. Investors should consider this an indicator of Amazon's continued appeal. Keeping an eye on Amazon’s strategic initiatives and market expansions can offer additional investment opportunities amidst this positive trend.\n\n3. **NVIDIA Corporation (NVDA)**: NVIDIA's 1.71% gain reflects optimism around its advancements in AI and semiconductors. Investors should consider the potential growth in these sectors as a lucrative opportunity. Keeping track of NVIDIA’s innovations and market positioning can provide insights into sustained investment value.\n\n4. **Microsoft Corporation (MSFT)**: Despite a modest 0.35% gain, Microsoft's stability may appeal to risk-averse investors seeking steady growth. This suggests confidence in Microsoft’s market presence. Investors might focus on Microsoft’s strategic initiatives in cloud computing and enterprise solutions for long-term value."
          },
          "metadata": {}
        }
      ]
    },
    {
      "cell_type": "markdown",
      "source": [
        "# Exercise 2: Testing with different lists of companies\n",
        "\n",
        "In exercise 1, you used a list of given ticker symbols, set in Step 1 with `ticker_symbols = [\"AAPL\", \"AMZN\", \"MSFT\", \"NVDA\"]`.\n",
        "\n",
        "Test the code with different ticker symbols. For this, modify the list `ticker_symbols` by replacing `[\"AAPL\", \"AMZN\", \"MSFT\", \"NVDA\"]` with other ticker symbols.\n",
        "\n",
        "Re-execute Step 2 and Step 5 from exercise 1, this time using a new list of four ticker symbols of your choice. There is no need to re-execute Step 3 and Step 4 as the prompt templates and chains can be reused.\n",
        "\n",
        "**Hint:** You can refer to https://stockanalysis.com/stocks/ to get inspiration and find new symbols. You can modify the list at the beginning of the exercise, without having to write new code here."
      ],
      "metadata": {
        "id": "33AoJXoMEYnH"
      }
    },
    {
      "cell_type": "markdown",
      "source": [
        "# Exercise 3: Testing with different models\n",
        "\n",
        "In exercise 1, you initially defined the LLM in the Setup phase with `llm = ChatOpenAI(temperature=0.9, model=\"gpt-4o\")`, and used this LLM throughout all subsequent steps.\n",
        "\n",
        "In this exercise, you will test the chain with different models. For this, you can just replace `gpt-4o` with another model of your choice, such as `gpt-4o-mini`, `gpt-4-turbo`, `gpt-3.5-turbo`.\n",
        "\n",
        "Then re-execute Steps 3-5 of your solution to exercise 1, this time with the redefined `llm`, using a different model of your choice for each step.\n",
        "\n",
        "**Hint:** You can refer to https://platform.openai.com/docs/models for a list of available models. You can modify the code cells in exercise 1, without having to write new code here."
      ],
      "metadata": {
        "id": "93T4bKZ1W-fj"
      }
    },
    {
      "cell_type": "markdown",
      "source": [
        "# Exercise 4: Trading insights from a CSV file with companies\n",
        "\n",
        "In the previous exercises, you used a fixed lists of ticker symbols, which is not flexible.\n",
        "\n",
        "In this exercise, you will extend the solution of exercise 1, so that the list of ticker symbols is loaded from a CSV file `ticker_symbols.csv`.\n",
        "\n",
        "To accomplish this, you can first expand the code provided below. More specifically, expand the code in Step 1; for Steps 2--5, you can then re-execute the code cells defined above (exercise 1), since the prompt templates and the sequential chain are reusable."
      ],
      "metadata": {
        "id": "eQwGu-69FPGZ"
      }
    },
    {
      "cell_type": "markdown",
      "source": [
        "### Step 1: Load from a CSV file the ticker symbols of the companies you invest in\n",
        "\n",
        "In the first step, you load a list of ticker symbols of companies in the stock market. The list is provided in a CSV file `ticker_symbols.csv`. You can find the CSV File in Canvas. Store the file locally on your computer and upload it using the upload option at the top of the file-explorer pane to upload any file(s) from your local file system to Colab in the present working directory.\n",
        "\n",
        "Use `CSVLoader` to load the CSV file into a variable called `ticker_document`."
      ],
      "metadata": {
        "id": "j3WDtvrOHZbW"
      }
    },
    {
      "cell_type": "code",
      "source": [
        "# Load and split the CSV content\n",
        "## YOUR CODE (START)\n",
        "loader = CSVLoader(file_path=\"/content/ticker_symbols.csv\")\n",
        "ticker_document = loader.load()\n",
        "## YOUR CODE (END)"
      ],
      "metadata": {
        "id": "zW0kxD2SJDT4"
      },
      "execution_count": 14,
      "outputs": []
    },
    {
      "cell_type": "markdown",
      "source": [
        "Now that the CSV file is loaded into `ticker_document`, you can ask an LLM to read `ticker_document` and return a list of the ticker symbols in it.\n",
        "\n",
        "To do so, use `PrompTemplate` to define a prompt template called `ticker_prompt_template`.\n",
        "\n",
        "The prompt template should take an input variable `document`.\n",
        "\n",
        "The template should ask to provide a list with the ticker symbols extracted from the document in input."
      ],
      "metadata": {
        "id": "ON97yG5pMf03"
      }
    },
    {
      "cell_type": "code",
      "source": [
        "# Define the prompt template\n",
        "## YOUR CODE (START)\n",
        "ticker_prompt_template = PromptTemplate(\n",
        "    input_variables = [\"document\"],\n",
        "    template = \"Give me a list with the ticker symbols extracted from the attached document: {document}. The response should just be a list of strings in double quotes\"\n",
        ")\n",
        "## YOUR CODE (END)"
      ],
      "metadata": {
        "id": "HPCzt1jvMQLl"
      },
      "execution_count": 15,
      "outputs": []
    },
    {
      "cell_type": "markdown",
      "source": [
        "Next, define an LLMChain called `ticker_chain` with:\n",
        "* the `llm` defined in the setup phase as the large language model,\n",
        "* `ticker_prompt_template` as the prompt,\n",
        "* an output called `ticker_symbols`."
      ],
      "metadata": {
        "id": "vgr-CN4UNpol"
      }
    },
    {
      "cell_type": "code",
      "source": [
        "# Define the llm chain\n",
        "## YOUR CODE (START)\n",
        "ticker_chain = LLMChain(llm=llm, prompt=ticker_prompt_template, output_key=\"ticker_symbols\")\n",
        "## YOUR CODE (END)"
      ],
      "metadata": {
        "id": "rw9Pcdy2OGpE"
      },
      "execution_count": 16,
      "outputs": []
    },
    {
      "cell_type": "markdown",
      "source": [
        "Now run `ticker_chain` passing `ticker_document` as parameter; the output of the chain should be assigned to variable `ticker_symbols_from_llm`. Note that the output of the chain is a string."
      ],
      "metadata": {
        "id": "iuQpmIPpO2eq"
      }
    },
    {
      "cell_type": "code",
      "source": [
        "#Run the chain\n",
        "## YOUR CODE (START)\n",
        "ticker_symbols_from_llm = ticker_chain.invoke({\"document\":ticker_document})\n",
        "## YOUR CODE (END)"
      ],
      "metadata": {
        "id": "S0xFCbr2OhuI"
      },
      "execution_count": 17,
      "outputs": []
    },
    {
      "cell_type": "markdown",
      "source": [
        "Lastly, convert the string `ticker_symbols_from_llm` into a list called `ticker_symbols`.\n",
        "\n",
        "To do so, you can use function `ast.literal_eval`, passing `ticket_symbols_from_llm` as parameter.\n",
        "\n",
        "Assign the result of the invocation to variable `ticker_symbols`, and print it."
      ],
      "metadata": {
        "id": "M2up1EzqPz7T"
      }
    },
    {
      "cell_type": "code",
      "source": [
        "#Run the chain\n",
        "## YOUR CODE (START)\n",
        "ticker_symbols = ast.literal_eval(ticker_symbols_from_llm[\"ticker_symbols\"])\n",
        "print(ticker_symbols)\n",
        "## YOUR CODE (END)"
      ],
      "metadata": {
        "id": "LEF_0sSHSCSA",
        "colab": {
          "base_uri": "https://localhost:8080/"
        },
        "outputId": "c7dcfa67-2468-4d6c-826c-e70d9266098d"
      },
      "execution_count": 19,
      "outputs": [
        {
          "output_type": "stream",
          "name": "stdout",
          "text": [
            "['AAPL', 'AMZN', 'MSFT', 'NVDA']\n"
          ]
        }
      ]
    },
    {
      "cell_type": "markdown",
      "source": [
        "Now you have a list `ticker_symbols` that originates from a CSV file and that you can use to get trading results and actionable insights, like in exercise 1.\n",
        "\n",
        "The continuation now is the same as in exercise 1: once you execute the code in the cells of the Setup phase and Step 1 of exercise 4, you can continue by re-executing the code in the cells of Steps 2--5 above."
      ],
      "metadata": {
        "id": "_5bEZQRoS-Tc"
      }
    }
  ],
  "metadata": {
    "colab": {
      "provenance": []
    },
    "kernelspec": {
      "display_name": "Python 3",
      "name": "python3"
    },
    "language_info": {
      "name": "python"
    }
  },
  "nbformat": 4,
  "nbformat_minor": 0
}