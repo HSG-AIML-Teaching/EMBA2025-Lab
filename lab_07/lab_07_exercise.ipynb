{
  "cells": [
    {
      "cell_type": "markdown",
      "source": [
        "# Exercise 1: Trading insights from a fixed list of companies\n",
        "In this exercise, you will get actionable insights for investment based on recent trading results of the companies you are investing in.\n",
        "\n",
        "(1) You will first retrieve a list of ticker symbols for companies, then\n",
        "\n",
        "(2) retrieve the trading results for these companies from Google, then\n",
        "\n",
        "(3) define a function using the OpenAI API to generate a report of the results and\n",
        "\n",
        "(4) define a function to generate actionable insights based on the report, and finally\n",
        "\n",
        "(5) combine the two functions into a sequential chain.\n",
        "\n",
        "To accomplish this, you can expand the code provided below:"
      ],
      "metadata": {
        "id": "v7iWPXagdQhK"
      }
    },
    {
      "cell_type": "markdown",
      "source": [
        "###Setup\n",
        "First, make the necessary imports."
      ],
      "metadata": {
        "id": "asugYFtKJUsQ"
      }
    },
    {
      "cell_type": "code",
      "execution_count": null,
      "metadata": {
        "id": "6iiGJtSmt1H5"
      },
      "outputs": [],
      "source": [
        "!pip install -q langchain langchain-community langchain-core langchain-openai\n",
        "\n",
        "from google.colab import userdata\n",
        "from transformers import pipeline\n",
        "from langchain.chains import SequentialChain, LLMChain\n",
        "from langchain_core.prompts import PromptTemplate\n",
        "from langchain_community.utilities import GoogleSerperAPIWrapper\n",
        "from langchain_community.document_loaders import CSVLoader\n",
        "from langchain_openai import ChatOpenAI\n",
        "import ast\n",
        "import os\n",
        "import pprint\n",
        "import getpass"
      ]
    },
    {
      "cell_type": "markdown",
      "source": [
        "Then, assign the API keys to be able to use Google Serper and OpenAI.\n",
        "\n",
        "When working with sensitive information like API keys or passwords in Google Colab, it's crucial to handle data securely. As you learnt in the tutorial session, two common approaches for this are using **Colab's Secrets Manager**, which stores and retrieves secrets without exposing them in the notebook, and `getpass`, a Python function that securely prompts users to input secrets during runtime without showing them. Both methods help ensure your sensitive data remains protected."
      ],
      "metadata": {
        "id": "qviEHKsjTZ1a"
      }
    },
    {
      "cell_type": "code",
      "source": [
        "#When using Colab Secret Manager\n",
        "os.environ[\"SERPER_API_KEY\"] = userdata.get('SERPER_API_KEY')\n",
        "#When using getpass\n",
        "#os.environ['SERPER_API_KEY'] = getpass.getpass()\n",
        "\n",
        "#When using Colab Secret Manager\n",
        "os.environ[\"OPENAI_API_KEY\"] = userdata.get('OPENAI_API_KEY')\n",
        "#When using getpass\n",
        "#os.environ['OPENAI_API_KEY'] = getpass.getpass()"
      ],
      "metadata": {
        "id": "9h1QKVPyTYTL"
      },
      "execution_count": null,
      "outputs": []
    },
    {
      "cell_type": "markdown",
      "source": [
        "Lastly, define the search model and the llm."
      ],
      "metadata": {
        "id": "66ld9xWlTnTZ"
      }
    },
    {
      "cell_type": "code",
      "source": [
        "search = GoogleSerperAPIWrapper()\n",
        "\n",
        "llm = ChatOpenAI(temperature=0.9, model=\"gpt-4o\")"
      ],
      "metadata": {
        "id": "6E0jS92zTitA"
      },
      "execution_count": null,
      "outputs": []
    },
    {
      "cell_type": "markdown",
      "source": [
        "### Step 1. Load the ticker symbols of the companies you invest in\n",
        "In the first step, you load a list of ticker symbols of companies in the stock market.\n",
        "\n",
        "Here, we assume that the list is predefined with the symbols of Apple, Amazon, Microsoft, and NVIDIA."
      ],
      "metadata": {
        "id": "6ECKcHgMJZTk"
      }
    },
    {
      "cell_type": "code",
      "source": [
        "ticker_symbols = [\"AAPL\", \"AMZN\", \"MSFT\", \"NVDA\"]"
      ],
      "metadata": {
        "id": "fa9sL-KEJkWt"
      },
      "execution_count": null,
      "outputs": []
    },
    {
      "cell_type": "markdown",
      "source": [
        "### Step 2. Retrieve recent trading results for the ticker symbols\n",
        "\n",
        "Use the `GoogleSerperAPIWrapper` (which you assigned to `search` in the Setup phase) to run a query for each ticker symbol in `ticker_symbols`.\n",
        "\n",
        "**Hint:** To do so, iterate over the individual ticker symbols in the list using the \"`for ... in ...:`\" structure. In each iteration, it is sufficient to just run the search passing the ticker symbol as parameter: the query will return the recent trading results for the respective company. For example, if you search `AAPL`, the result will look like `233.28 -1.12 (0.48%)`.\n",
        "\n",
        "The result of running the queries (one per ticker symbol) should be a concatenation of the individual results in a single string `trading_results`. The structure of this string should be as follows: a ticker symbol, followed by the respective trading result, and then a semicolon (\";\"), followed by the same structure for the remaining symbols. An example for the result is as follows:\n",
        "\n",
        "`AAPL 233.28 -1.12 (0.48%);AMZN 217.76 -0.70 (0.32%);MSFT 415.67 -1.52 (0.36%);NVDA 131.76 -1.47 (1.10%);NVDA 131.76 -1.47 (1.10%);`"
      ],
      "metadata": {
        "id": "OvB31SZIJsfs"
      }
    },
    {
      "cell_type": "code",
      "source": [
        "# Initialize an empty string where to append the results\n",
        "trading_results = \"\"\n",
        "\n",
        "# Iterate over the ticker symbols to run the query and append the results as specified\n",
        "## YOUR CODE (START)\n",
        "\n",
        "## YOUR CODE (END)"
      ],
      "metadata": {
        "id": "HQwdUz0AJJsE"
      },
      "execution_count": null,
      "outputs": []
    },
    {
      "cell_type": "code",
      "source": [
        "# Print the trading results\n",
        "print(trading_results)"
      ],
      "metadata": {
        "id": "q-awuZNrSyhd"
      },
      "execution_count": null,
      "outputs": []
    },
    {
      "cell_type": "markdown",
      "source": [
        "### Step 3. Create a prompt template and chain to get a report in natural language for the trading results\n",
        "\n",
        "Use `PromptTemplate` to define a prompt template `report_prompt_template`.\n",
        "\n",
        "The prompt template should take as input variable the string `trading_results` that was generated in the previous step.\n",
        "\n",
        "The template should ask the llm to provide a report for the trading results that are in the input variable.\n",
        "\n",
        "The template should also specify that the report must have a maximum length, for example of 200 words."
      ],
      "metadata": {
        "id": "Or-d3_4KJ6nt"
      }
    },
    {
      "cell_type": "code",
      "source": [
        "# Define the prompt template\n",
        "## YOUR CODE (START)\n",
        "report_prompt_template =\n",
        "## YOUR CODE (END)"
      ],
      "metadata": {
        "id": "o6-ClmPuKAxX"
      },
      "execution_count": null,
      "outputs": []
    },
    {
      "cell_type": "markdown",
      "source": [
        "Define an `LLMChain` called `report_chain` with:\n",
        "* the `llm` defined in the setup phase as the large language model,\n",
        "*`report_prompt_template` as the prompt,\n",
        "* an output called `textual_report`."
      ],
      "metadata": {
        "id": "xfhgS4k0WkSK"
      }
    },
    {
      "cell_type": "code",
      "source": [
        "# Define the llm chain\n",
        "## YOUR CODE (START)\n",
        "report_chain =\n",
        "## YOUR CODE (END)"
      ],
      "metadata": {
        "id": "rEuC5ywDTAyH"
      },
      "execution_count": null,
      "outputs": []
    },
    {
      "cell_type": "markdown",
      "source": [
        "### Step 4. Create a prompt template and chain to generate actionable insights for investors based on the report\n",
        "\n",
        "Use PromptTemplate to define a prompt template `insight_prompt_template`.\n",
        "\n",
        "The prompt template should take as input variable `textual_report`, which is the output of the chain defined in the previous step.\n",
        "\n",
        "The template should ask the llm to provide actionable insights for investors based on the report in the input variable.\n",
        "\n",
        "The template should also specify that the insights for each company mentioned in the report must have a maximum length, e.g., 50 words."
      ],
      "metadata": {
        "id": "W-CaW6D3bqfq"
      }
    },
    {
      "cell_type": "code",
      "source": [
        "# Define the prompt template\n",
        "## YOUR CODE (START)\n",
        "insight_prompt_template =\n",
        "## YOUR CODE (END)"
      ],
      "metadata": {
        "id": "grjFP9kaTt-G"
      },
      "execution_count": null,
      "outputs": []
    },
    {
      "cell_type": "markdown",
      "source": [
        "Define an LLMChain called `report_chain` with:\n",
        "* the `llm` defined in the setup phase as the large language model,\n",
        "* `insight_prompt_template` as the prompt,\n",
        "* an output called `insights`."
      ],
      "metadata": {
        "id": "jCuqRVEpYJck"
      }
    },
    {
      "cell_type": "code",
      "source": [
        "# Define the llm chain\n",
        "## YOUR CODE (START)\n",
        "insight_chain =\n",
        "## YOUR CODE (END)"
      ],
      "metadata": {
        "id": "_bmrnuF0TMZM"
      },
      "execution_count": null,
      "outputs": []
    },
    {
      "cell_type": "markdown",
      "source": [
        "### Step 5. Create a sequential chain where the trading results from Step 2 are used as input and the daily report and actionable insights are printed\n",
        "\n",
        "Use `SequentialChain` to define a chain called `complete_chain`, with:\n",
        "* `report_chain` and `insight_chain` as the chains,\n",
        "* `trading_results` as the input variable,\n",
        "* `textual_report` and `insights` as the output variables."
      ],
      "metadata": {
        "id": "vOwYGxJnb6HS"
      }
    },
    {
      "cell_type": "code",
      "source": [
        "# Combine the chains\n",
        "## YOUR CODE (START)\n",
        "complete_chain =\n",
        "## YOUR CODE (END)"
      ],
      "metadata": {
        "id": "OK1ELLR_UCvF"
      },
      "execution_count": null,
      "outputs": []
    },
    {
      "cell_type": "markdown",
      "source": [
        "Invoke the `complete_chain`, passing `trading_results` from Step 2 as the input variable `trading_results`.\n",
        "\n",
        "The result of the complete chain invocation should be assigned to a variable called `final_response`."
      ],
      "metadata": {
        "id": "MTq_PMGPZID-"
      }
    },
    {
      "cell_type": "code",
      "source": [
        "# Invoke the complete chain\n",
        "## YOUR CODE (START)\n",
        "final_response =\n",
        "## YOUR CODE (END)"
      ],
      "metadata": {
        "id": "loi06dELZE8u"
      },
      "execution_count": null,
      "outputs": []
    },
    {
      "cell_type": "markdown",
      "source": [
        "Lastly, print the results of the chain invocation to read the report and insights:"
      ],
      "metadata": {
        "id": "GvmUtyYvZjgp"
      }
    },
    {
      "cell_type": "code",
      "source": [
        "# Print the result of the chain\n",
        "print(final_response[\"textual_report\"])\n",
        "print(final_response[\"insights\"])"
      ],
      "metadata": {
        "id": "4k-SzL7YZiKF"
      },
      "execution_count": null,
      "outputs": []
    },
    {
      "cell_type": "markdown",
      "source": [
        "# Exercise 2: Testing with different lists of companies\n",
        "\n",
        "In exercise 1, you used a list of given ticker symbols, set in Step 1 with `ticker_symbols = [\"AAPL\", \"AMZN\", \"MSFT\", \"NVDA\"]`.\n",
        "\n",
        "Test the code with different ticker symbols. For this, modify the list `ticker_symbols` by replacing `[\"AAPL\", \"AMZN\", \"MSFT\", \"NVDA\"]` with other ticker symbols.\n",
        "\n",
        "Re-execute Step 2 and Step 5 from exercise 1, this time using a new list of four ticker symbols of your choice. There is no need to re-execute Step 3 and Step 4 as the prompt templates and chains can be reused.\n",
        "\n",
        "**Hint:** You can refer to https://stockanalysis.com/stocks/ to get inspiration and find new symbols. You can modify the list at the beginning of the exercise, without having to write new code here."
      ],
      "metadata": {
        "id": "33AoJXoMEYnH"
      }
    },
    {
      "cell_type": "markdown",
      "source": [
        "# Exercise 3: Testing with different models\n",
        "\n",
        "In exercise 1, you initially defined the LLM in the Setup phase with `llm = ChatOpenAI(temperature=0.9, model=\"gpt-4o\")`, and used this LLM throughout all subsequent steps.\n",
        "\n",
        "In this exercise, you will test the chain with different models. For this, you can just replace `gpt-4o` with another model of your choice, such as `gpt-4o-mini`, `gpt-4-turbo`, `gpt-3.5-turbo`.\n",
        "\n",
        "Then re-execute Steps 3-5 of your solution to exercise 1, this time with the redefined `llm`, using a different model of your choice for each step.\n",
        "\n",
        "**Hint:** You can refer to https://platform.openai.com/docs/models for a list of available models. You can modify the code cells in exercise 1, without having to write new code here."
      ],
      "metadata": {
        "id": "93T4bKZ1W-fj"
      }
    },
    {
      "cell_type": "markdown",
      "source": [
        "# Exercise 4: Trading insights from a CSV file with companies\n",
        "\n",
        "In the previous exercises, you used a fixed lists of ticker symbols, which is not flexible.\n",
        "\n",
        "In this exercise, you will extend the solution of exercise 1, so that the list of ticker symbols is loaded from a CSV file `ticker_symbols.csv`.\n",
        "\n",
        "To accomplish this, you can first expand the code provided below. More specifically, expand the code in Step 1; for Steps 2--5, you can then re-execute the code cells defined above (exercise 1), since the prompt templates and the sequential chain are reusable."
      ],
      "metadata": {
        "id": "eQwGu-69FPGZ"
      }
    },
    {
      "cell_type": "markdown",
      "source": [
        "### Step 1: Load from a CSV file the ticker symbols of the companies you invest in\n",
        "\n",
        "In the first step, you load a list of ticker symbols of companies in the stock market. The list is provided in a CSV file `ticker_symbols.csv`. You can find the CSV File in Canvas. Store the file locally on your computer and upload it using the upload option at the top of the file-explorer pane to upload any file(s) from your local file system to Colab in the present working directory.\n",
        "\n",
        "Use `CSVLoader` to load the CSV file into a variable called `ticker_document`."
      ],
      "metadata": {
        "id": "j3WDtvrOHZbW"
      }
    },
    {
      "cell_type": "code",
      "source": [
        "# Load and split the CSV content\n",
        "## YOUR CODE (START)\n",
        "loader =\n",
        "ticker_document =\n",
        "## YOUR CODE (END)"
      ],
      "metadata": {
        "id": "zW0kxD2SJDT4"
      },
      "execution_count": null,
      "outputs": []
    },
    {
      "cell_type": "markdown",
      "source": [
        "Now that the CSV file is loaded into `ticker_document`, you can ask an LLM to read `ticker_document` and return a list of the ticker symbols in it.\n",
        "\n",
        "To do so, use `PrompTemplate` to define a prompt template called `ticker_prompt_template`.\n",
        "\n",
        "The prompt template should take an input variable `document`.\n",
        "\n",
        "The template should ask to provide a list with the ticker symbols extracted from the document in input."
      ],
      "metadata": {
        "id": "ON97yG5pMf03"
      }
    },
    {
      "cell_type": "code",
      "source": [
        "# Define the prompt template\n",
        "## YOUR CODE (START)\n",
        "ticker_prompt_template =\n",
        "## YOUR CODE (END)"
      ],
      "metadata": {
        "id": "HPCzt1jvMQLl"
      },
      "execution_count": null,
      "outputs": []
    },
    {
      "cell_type": "markdown",
      "source": [
        "Next, define an LLMChain called `ticker_chain` with:\n",
        "* the `llm` defined in the setup phase as the large language model,\n",
        "* `ticker_prompt_template` as the prompt,\n",
        "* an output called `ticker_symbols`."
      ],
      "metadata": {
        "id": "vgr-CN4UNpol"
      }
    },
    {
      "cell_type": "code",
      "source": [
        "# Define the llm chain\n",
        "## YOUR CODE (START)\n",
        "ticker_chain =\n",
        "## YOUR CODE (END)"
      ],
      "metadata": {
        "id": "rw9Pcdy2OGpE"
      },
      "execution_count": null,
      "outputs": []
    },
    {
      "cell_type": "markdown",
      "source": [
        "Now run `ticker_chain` passing `ticker_document` as parameter; the output of the chain should be assigned to variable `ticker_symbols_from_llm`. Note that the output of the chain is a string."
      ],
      "metadata": {
        "id": "iuQpmIPpO2eq"
      }
    },
    {
      "cell_type": "code",
      "source": [
        "#Run the chain\n",
        "## YOUR CODE (START)\n",
        "ticker_symbols_from_llm =\n",
        "## YOUR CODE (END)"
      ],
      "metadata": {
        "id": "S0xFCbr2OhuI"
      },
      "execution_count": null,
      "outputs": []
    },
    {
      "cell_type": "markdown",
      "source": [
        "Lastly, convert the string `ticker_symbols_from_llm` into a list called `ticker_symbols`.\n",
        "\n",
        "To do so, you can use function `ast.literal_eval`, passing `ticket_symbols_from_llm` as parameter.\n",
        "\n",
        "Assign the result of the invocation to variable `ticker_symbols`, and print it."
      ],
      "metadata": {
        "id": "M2up1EzqPz7T"
      }
    },
    {
      "cell_type": "code",
      "source": [
        "#Invoke the chain\n",
        "## YOUR CODE (START)\n",
        "ticker_symbols =\n",
        "\n",
        "## YOUR CODE (END)"
      ],
      "metadata": {
        "id": "LEF_0sSHSCSA"
      },
      "execution_count": null,
      "outputs": []
    },
    {
      "cell_type": "markdown",
      "source": [
        "Now you have a list `ticker_symbols` that originates from a CSV file and that you can use to get trading results and actionable insights, like in exercise 1.\n",
        "\n",
        "The continuation now is the same as in exercise 1: once you execute the code in the cells of Step 1 of exercise 4, you can continue by re-executing the code in the cells of Steps 2--5 above."
      ],
      "metadata": {
        "id": "_5bEZQRoS-Tc"
      }
    }
  ],
  "metadata": {
    "colab": {
      "provenance": [],
      "toc_visible": true
    },
    "kernelspec": {
      "display_name": "Python 3",
      "name": "python3"
    },
    "language_info": {
      "name": "python"
    }
  },
  "nbformat": 4,
  "nbformat_minor": 0
}