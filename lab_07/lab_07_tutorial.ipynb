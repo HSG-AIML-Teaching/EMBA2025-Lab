{
  "cells": [
    {
      "cell_type": "markdown",
      "metadata": {
        "id": "3Qed5z8v8Sbh"
      },
      "source": [
        "# **Simplifying the Development of LLM-powered Applications with Langchain**"
      ]
    },
    {
      "cell_type": "markdown",
      "metadata": {
        "id": "9doFJA-yXMY6"
      },
      "source": [
        "Having learnt about the usage of the OpenAI API, this notebook introduces LangChain. LangChain is\n",
        "an open source framework for **simplifying the development of applications** powered by **large language models (LLMs)**.\n",
        "\n",
        "It provides a set of tools and abstractions to make it easier to build complex workflows, integrating LLMs with external data sources, APIs, and databases.\n",
        "\n"
      ]
    },
    {
      "cell_type": "markdown",
      "metadata": {
        "id": "h0cu0ueOZ3gh"
      },
      "source": [
        "## **Using LangChain with OpenAI**"
      ]
    },
    {
      "cell_type": "markdown",
      "metadata": {
        "id": "HBVcbAgQai2S"
      },
      "source": [
        "In a first step we will explore how to use LangChain with OpenAI.\n",
        "\n",
        "To get started we install the **LangChain library** and its **OpenAI-specific integrations** in your Python environment."
      ]
    },
    {
      "cell_type": "code",
      "execution_count": null,
      "metadata": {
        "id": "I2ZVIPoV8pHx"
      },
      "outputs": [],
      "source": [
        "!pip install -qU langchain-openai langchain langchain_community"
      ]
    },
    {
      "cell_type": "markdown",
      "source": [
        "## **Securely Handling Sensitive Data in Colab**"
      ],
      "metadata": {
        "id": "qgLQUPnAXPDV"
      }
    },
    {
      "cell_type": "markdown",
      "source": [
        "To use OpenAI's GPT models the API key needs to be set up.\n",
        "\n",
        "\n",
        "When working with sensitive information like API keys or passwords in Google Colab, it's crucial to handle data securely. Two common approaches for this are using **Colab's Secrets Manager**, which stores and retrieves secrets without exposing them in the notebook, and `getpass`, a Python function that securely prompts users to input secrets during runtime without showing them. Both methods help ensure your sensitive data remains protected."
      ],
      "metadata": {
        "id": "U7B32sA1XDs6"
      }
    },
    {
      "cell_type": "markdown",
      "source": [
        "### **Option 1: Using Google Colab Secrets Manager**"
      ],
      "metadata": {
        "id": "aiuHoVgAW58K"
      }
    },
    {
      "cell_type": "markdown",
      "metadata": {
        "id": "vILGOv5Dau3Q"
      },
      "source": [
        "Google Colab provides an integrated Secrets Manager, allowing you to securely store and retrieve sensitive information such as API keys or authentication tokens without hardcoding them in your notebook.\n",
        "\n",
        "**Step 1: Store Your Secret in Colab**\n",
        "\n",
        "1.   In the Colab notebook, navigate to the left sidebar.\n",
        "2.   Click on the **“Secrets”** tab (represented by a key icon).\n",
        "3. Add your secret by clicking on **“+ Add a new secret”**. For example, you might add a secret called `OPENAI_API_KEY` with the value of your API key.\n",
        "\n",
        "**Step 2: Access the Secret in Your Notebook**\n",
        "\n",
        "Once you've added a secret, you can easily access it from within the notebook.\n",
        "\n",
        "`OPENAI_API_KEY` is the name of the secret you've added in the Colab Secrets Manager. It will be retrieved securely without having to expose the key in the notebook.\n"
      ]
    },
    {
      "cell_type": "code",
      "execution_count": null,
      "metadata": {
        "id": "5D6e8iVJ-L9r"
      },
      "outputs": [],
      "source": [
        "import os\n",
        "from google.colab import userdata\n",
        "os.environ[\"OPENAI_API_KEY\"] = userdata.get('OPENAI_API_KEY')"
      ]
    },
    {
      "cell_type": "markdown",
      "source": [
        "### **Option 2: Using Python's `getpass` for Secret Input**"
      ],
      "metadata": {
        "id": "ApcrD_OGX7Mb"
      }
    },
    {
      "cell_type": "markdown",
      "source": [
        "Alternatively, the `getpass` module allows you to securely input secrets (e.g., passwords or API keys) during runtime, making sure they're not visible in the notebook output.\n",
        "\n",
        "Here, the `getpass.getpass` function prompts the user to enter the secret without displaying it as they type, ensuring that sensitive data isn't exposed."
      ],
      "metadata": {
        "id": "mVUeKxs_WzXt"
      }
    },
    {
      "cell_type": "code",
      "source": [
        "import getpass\n",
        "os.environ['OPENAI_API_KEY'] = getpass.getpass()"
      ],
      "metadata": {
        "id": "M_fgOXZ7W0xw"
      },
      "execution_count": null,
      "outputs": []
    },
    {
      "cell_type": "markdown",
      "source": [
        "## **Setting Up OpenAI in LangChain: Configuring GPT Models for Language Processing**"
      ],
      "metadata": {
        "id": "99yq7NmzYcMz"
      }
    },
    {
      "cell_type": "markdown",
      "metadata": {
        "id": "tzP-r3xgbXtX"
      },
      "source": [
        "We then create an instance of ChatOpenAI from LangChain's built-in LLM integrations (`gpt4o_mini_temp_high`), specifying the `model` (e.g., `gpt-4o-mini`) and other parameters like `temperature` (which controls randomness).\n"
      ]
    },
    {
      "cell_type": "code",
      "execution_count": null,
      "metadata": {
        "id": "SyhL9pwe8EYP"
      },
      "outputs": [],
      "source": [
        "# Step 1: Set up OpenAI LLM\n",
        "from langchain_openai import ChatOpenAI\n",
        "gpt4o_mini_temp_high = ChatOpenAI(temperature=0.9, model=\"gpt-4o-mini\")"
      ]
    },
    {
      "cell_type": "markdown",
      "metadata": {
        "id": "MT5Hq2J9vN0I"
      },
      "source": [
        "Then we call the `invoke` method of the `gpt4o_mini_temp_high` (large language model) object to generate a `response` based on the provided prompt. The prompt is \"*Tell me a Chinese recipe with ingredients: rice, pork, and vegetables in a textual output format\"*. The language model processes the prompt and generates a recipe suggestion as its output.\n",
        "\n",
        "To display the response in a readable form we will again use Markdown."
      ]
    },
    {
      "cell_type": "code",
      "source": [
        "from IPython.display import Markdown"
      ],
      "metadata": {
        "id": "AGlQm9aeLuES"
      },
      "execution_count": null,
      "outputs": []
    },
    {
      "cell_type": "code",
      "execution_count": null,
      "metadata": {
        "id": "uJiRMoOtuY60"
      },
      "outputs": [],
      "source": [
        "# Step 2: Invoke the LLM\n",
        "response = gpt4o_mini_temp_high.invoke(\n",
        "    \"Tell me a Chinese recipe with ingredients: rice, pork, and vegetables in a textual output format.\"\n",
        ")\n",
        "\n",
        "display(Markdown(response.content))"
      ]
    },
    {
      "cell_type": "markdown",
      "metadata": {
        "id": "tLFlLjXisjAE"
      },
      "source": [
        "## **Prompt Templates: Crafting Flexible and Reusable AI Interactions**"
      ]
    },
    {
      "cell_type": "markdown",
      "metadata": {
        "id": "JkSLfLyMsu-5"
      },
      "source": [
        "Now let's see how we can **structure and reuse prompts** in a flexible and dynamic way using the Prompt Templates feature in LangChain. Prompt Templates help you standardize inputs to language models by defining **templates** that can be **filled with dynamic variables**. This is particularly useful when you want to create consistent prompts that can be adjusted based on user input or specific tasks."
      ]
    },
    {
      "cell_type": "markdown",
      "metadata": {
        "id": "7K0jtn2W848K"
      },
      "source": [
        "Let's now explore how to create such a prompt template. For this, we define a simple prompt template using `PromptTemplate`, which will format the string to include dynamic variables (like `cuisine` and `ingredients`).\n",
        "\n",
        "To identify dynamic variables in the prompt template, we enclose them in curly brackets.\n",
        "\n",
        "To assign a value to the variables in the prompt template, we use `format` to format the prompt."
      ]
    },
    {
      "cell_type": "code",
      "execution_count": null,
      "metadata": {
        "id": "-0CgEbLE83e5"
      },
      "outputs": [],
      "source": [
        "from langchain_core.prompts import PromptTemplate\n",
        "\n",
        "recipe_prompt_template = PromptTemplate.from_template(\n",
        "    \"Tell me a {cuisine} recipe with ingredients: {ingredients}.\"\n",
        ")\n",
        "\n",
        "recipe_prompt = recipe_prompt_template.format(cuisine=\"Chinese\", ingredients = [\"rice\", \"pork\", \"vegetables\"])"
      ]
    },
    {
      "cell_type": "markdown",
      "metadata": {
        "id": "_BNbWYE1b4pY"
      },
      "source": [
        "Then we use the LLM to generate a response from the prompt. More specifically, by invoking the llm instance we generate the `response` by passing a formatted prompt `(prompt_template.format(cuisine=\"Chinese\", ingredients = [\"rice\", \"pork\", \"vegetables\"]))` to the model."
      ]
    },
    {
      "cell_type": "code",
      "execution_count": null,
      "metadata": {
        "id": "kwYeLSV9b81j"
      },
      "outputs": [],
      "source": [
        "# Step 2: Invoke the LLM\n",
        "response = gpt4o_mini_temp_high.invoke(recipe_prompt)\n",
        "display(Markdown(response.content))"
      ]
    },
    {
      "cell_type": "markdown",
      "metadata": {
        "id": "lfBfe5miZtCB"
      },
      "source": [
        "## **Chains: The Building Blocks of Dynamic AI Workflows**"
      ]
    },
    {
      "cell_type": "markdown",
      "metadata": {
        "id": "4EucAI4HXPSz"
      },
      "source": [
        "For simple and standalone tasks, it makes sense to invoke a formatted prompt (e.g., `recipe_prompt`) directly using the `invoke` method as demonstrated in the previous section.\n",
        "\n",
        "However, when the prompt is part of a larger workflow or reusability is a concern, **LLMChains** are more suitable. An **LLMChain** in LangChain combines a **PromptTemplate** with a language model (LLM) to dynamically generate outputs, separating prompt construction from LLM invocation. This separation simplifies workflows, enhances modularity, and makes them easier to maintain and reuse."
      ]
    },
    {
      "cell_type": "markdown",
      "metadata": {
        "id": "LmbiGhuXbF68"
      },
      "source": [
        "**LLMChain** is imported to handle the integration between the `PromptTemplate` and the LLM, streamlining the process of running dynamic queries."
      ]
    },
    {
      "cell_type": "code",
      "execution_count": null,
      "metadata": {
        "id": "ZvTLXb2BXbtY"
      },
      "outputs": [],
      "source": [
        "from langchain.chains import LLMChain"
      ]
    },
    {
      "cell_type": "markdown",
      "metadata": {
        "id": "SjhO0ScFbNfP"
      },
      "source": [
        "The next line creates an `LLMChain` that will format the prompt dynamically using the template and send it to the language model.\n",
        "\n",
        "* `llm=gpt4o_mini_temp_high:` Refers to the instantiated language model, such as OpenAI(`model=\"gpt-40-mini\"`).\n",
        "\n",
        "* `prompt=recipe_prompt_template`: Refers to the pre-defined PromptTemplate that contains placeholders for dynamic inputs (e.g., `{cuisine}` and `{ingredients}`).\n"
      ]
    },
    {
      "cell_type": "code",
      "execution_count": null,
      "metadata": {
        "id": "IMwLzxWHXcAR"
      },
      "outputs": [],
      "source": [
        "# Step 2: Create the LLMChain\n",
        "chain = LLMChain(llm= gpt4o_mini_temp_high, prompt=recipe_prompt_template)"
      ]
    },
    {
      "cell_type": "markdown",
      "metadata": {
        "id": "dYQKVVicbr_p"
      },
      "source": [
        "`chain.invoke(...)`: Fills in the placeholders in the `recipe_prompt_template` with the provided arguments (`{\"cuisine\": \"Chinese\", \"ingredients\": \"rice, pork, vegetables\"}`) and sends the formatted prompt to the language model for processing. The LLM generates a response (e.g., a recipe), which is stored in the `response` variable which is then displayed."
      ]
    },
    {
      "cell_type": "code",
      "execution_count": null,
      "metadata": {
        "id": "kT61PUJFbsUm"
      },
      "outputs": [],
      "source": [
        "# Step 3: Run the Chain\n",
        "response = chain.invoke({\"cuisine\": \"Chinese\",\n",
        "    \"ingredients\": \"rice, pork, vegetables\"})\n",
        "\n",
        "display(Markdown(response[\"text\"]))"
      ]
    },
    {
      "cell_type": "markdown",
      "metadata": {
        "id": "fv50J1Yemle3"
      },
      "source": [
        "### **Sequential Chains: Building Multi-Step AI Workflows with Ease**"
      ]
    },
    {
      "cell_type": "markdown",
      "metadata": {
        "id": "rpKDujs2OeKZ"
      },
      "source": [
        "**Sequential Chains** extend the functionality of individual LLMChains by linking multiple chains together in a step-by-step workflow. While a single LLMChain connects a prompt template to a model, Sequential Chains enable the output of one chain to feed into the next, creating a pipeline for complex, multi-step tasks. This allows for dynamic and modular workflows, such as generating an idea, refining it into an outline, and producing detailed content—all in one seamless process. By structuring tasks sequentially, Sequential Chains make it easy to handle interdependent operations while maintaining clarity and reusability."
      ]
    },
    {
      "cell_type": "markdown",
      "source": [
        "We will now create a sequential chain for recipe generation.\n",
        "\n",
        "*   **Input Variables:**\n",
        "  * `cuisine` and `ingredients` are the initial inputs for the sequential chain.\n",
        "\n",
        "*   **Step 1: Dish Generation**\n",
        "  * A prompt template (`dish_template`) is created to suggest a dish based on the given cuisine and ingredients.\n",
        "  * The output of this step is the `dish` name, which will be passed to the next step.\n",
        "\n",
        "* **Step 2 - Outline Creation:**\n",
        " * The output from the first step (`dish`) is passed as an input to the second prompt (`outline_template`), where a step-by-step outline for preparing the dish is created.\n",
        " * The output of this step is the `outline`.\n",
        "\n",
        "* **Step 3 - Recipe Writing:**\n",
        "  * The output from the second step (`outline`) is used as input in the third prompt (`recipe_template`) to generate a recipe.\n",
        "  * The output of this step is the `recipe`.\n",
        "\n",
        "* **Connections:**\n",
        "  * `cuisine` + `ingredients` → `dish`\n",
        "  * `dish` → `outline`\n",
        "  * `outline` → `recipe`\n",
        "\n",
        "A visualization of this `SequentialChain` (`dish_generation_chain`) is depicted below."
      ],
      "metadata": {
        "id": "UKKSndA0fBRy"
      }
    },
    {
      "cell_type": "markdown",
      "source": [
        "![image.png](data:image/png;base64,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)"
      ],
      "metadata": {
        "id": "AaMHqJOqeZA-"
      }
    },
    {
      "cell_type": "code",
      "execution_count": null,
      "metadata": {
        "id": "2AJPA-5MN6CU"
      },
      "outputs": [],
      "source": [
        "from langchain.chains import SequentialChain, LLMChain\n",
        "from langchain.prompts import PromptTemplate\n",
        "from langchain_openai import OpenAI\n",
        "\n",
        "# Step 1: Define the LLM\n",
        "chatgpt_4o_mini = ChatOpenAI(model=\"gpt-4o-mini\", temperature=0, max_tokens=8000)\n",
        "\n",
        "# Step 2: Create PromptTemplates for Each Step\n",
        "# First, a prompt template to suggest a dish of a specified cuisine with specified ingredients\n",
        "dish_prompt = PromptTemplate(\n",
        "    input_variables=[\"cuisine\", \"ingredients\"],\n",
        "    template=\"Suggest a dish for {cuisine} cuisine using these ingredients: {ingredients}. Provide only the dish name and the ingredients.\"\n",
        ")\n",
        "\n",
        "# Then, a prompt template to create an outline for preparing the suggested dish\n",
        "outline_prompt = PromptTemplate(\n",
        "    input_variables=[\"dish\"],\n",
        "    template=\"Create a step-by-step outline for preparing the dish: {dish}.\"\n",
        ")\n",
        "\n",
        "# Finally, a prompt template to write a detailed recipe from the generated outline\n",
        "recipe_prompt = PromptTemplate(\n",
        "    input_variables=[\"outline\"],\n",
        "    template=\"Write a detailed recipe based on the following outline:\\n\\n{outline}\"\n",
        ")\n",
        "\n",
        "# Step 3: Create LLMChains for Each Step\n",
        "dish_chain = LLMChain(llm=chatgpt_4o_mini, prompt=dish_prompt, output_key=\"dish\")\n",
        "outline_chain = LLMChain(llm=chatgpt_4o_mini, prompt=outline_prompt, output_key=\"outline\")\n",
        "recipe_chain = LLMChain(llm=chatgpt_4o_mini, prompt=recipe_prompt, output_key=\"recipe\")\n",
        "\n",
        "# Step 4: Combine Chains into a SequentialChain\n",
        "dish_generation_chain = SequentialChain(\n",
        "    chains=[dish_chain, outline_chain, recipe_chain],\n",
        "    input_variables=[\"cuisine\", \"ingredients\"],\n",
        "    output_variables=[\"dish\", \"outline\", \"recipe\"]\n",
        ")"
      ]
    },
    {
      "cell_type": "markdown",
      "metadata": {
        "id": "whq2qrNsUg4Y"
      },
      "source": [
        "Let's now run the chain for an Italian recipe with tomatoes, basil, mozzarella, and olive oil."
      ]
    },
    {
      "cell_type": "code",
      "execution_count": null,
      "metadata": {
        "id": "UE8T8MnoUb4r"
      },
      "outputs": [],
      "source": [
        "# Step 5: Run the Chain\n",
        "response = dish_generation_chain.invoke({\n",
        "    \"cuisine\": \"Italian\",\n",
        "    \"ingredients\": \"tomatoes, basil, mozzarella, olive oil\"\n",
        "})"
      ]
    },
    {
      "cell_type": "code",
      "source": [
        "display(Markdown(response[\"dish\"]))"
      ],
      "metadata": {
        "id": "kU3Br_BcSUZ9"
      },
      "execution_count": null,
      "outputs": []
    },
    {
      "cell_type": "code",
      "source": [
        "display(Markdown( response[\"outline\"]))"
      ],
      "metadata": {
        "id": "68NlULnWSNpp"
      },
      "execution_count": null,
      "outputs": []
    },
    {
      "cell_type": "code",
      "source": [
        "display(Markdown(response[\"recipe\"]))"
      ],
      "metadata": {
        "id": "I11myMYnSVNr"
      },
      "execution_count": null,
      "outputs": []
    },
    {
      "cell_type": "markdown",
      "metadata": {
        "id": "-SDq3PDmU1EY"
      },
      "source": [
        "If you are not up for an Italian recipe then just re-run the chain with other input parameters. Notice how you do not need to change anything in the chain definition, but only the input parameters."
      ]
    },
    {
      "cell_type": "code",
      "execution_count": null,
      "metadata": {
        "id": "Qk2P4v4RU_Dk"
      },
      "outputs": [],
      "source": [
        "# Step 5 (alternative): Run the Chain\n",
        "response = dish_generation_chain.invoke({\n",
        "    \"cuisine\": \"Mexican\",\n",
        "    \"ingredients\": \"tomatoes, cheese, corn tortillas, onions\"\n",
        "})"
      ]
    },
    {
      "cell_type": "code",
      "source": [
        "display(Markdown(response[\"dish\"]))"
      ],
      "metadata": {
        "id": "J7cRzTkqScyK"
      },
      "execution_count": null,
      "outputs": []
    },
    {
      "cell_type": "code",
      "source": [
        "display(Markdown( response[\"outline\"]))"
      ],
      "metadata": {
        "id": "WIvWHt1tSclI"
      },
      "execution_count": null,
      "outputs": []
    },
    {
      "cell_type": "code",
      "source": [
        "display(Markdown(response[\"recipe\"]))"
      ],
      "metadata": {
        "id": "OwsecYgKSbMj"
      },
      "execution_count": null,
      "outputs": []
    },
    {
      "cell_type": "markdown",
      "metadata": {
        "id": "nZTjtQblc2Hk"
      },
      "source": [
        "## **Optimizing LangChain for Complex Workflows**"
      ]
    },
    {
      "cell_type": "markdown",
      "source": [
        "### **Customizing LangChain: Model Selection, Prompts, and Multi-Model Integration**"
      ],
      "metadata": {
        "id": "ueTUmsYfBP5f"
      }
    },
    {
      "cell_type": "markdown",
      "metadata": {
        "id": "ubJt6Pbwcuo8"
      },
      "source": [
        "LangChain allows you to customize your application to suit a variety of use cases by offering flexibility in how you configure the models, prompts, and workflow. These customizations help tailor the conversation or task to your specific needs, while also providing the power to work with a range of language models.\n",
        "\n",
        "* **Model Selection:** You can easily experiment with different models depending on the task. Whether it's **gpt-4o, gpt-4o-mini,** one of the models of **Cohere,** open-source models available at HuggingFace like **DeepSeek, Mistral, Llama**, or even **Google's Gemini**, LangChain makes it simple to switch between models and leverage the unique strengths of each.\n",
        "\n",
        "* **Prompt Templates:** Modify the **PromptTemplate** to suit your needs. You can adjust the prompt's **style, tone**, and **context** to shape how the model responds. Whether you're generating creative text, answering questions, or summarizing information, customizing the prompt allows for better alignment with your use case.\n",
        "\n",
        "* **Temperature Control:** Adjust the **temperature** parameter to control the creativity or randomness of the model's response. A lower temperature (e.g., 0.2) results in more deterministic and focused output, while a higher temperature (e.g., 0.8) increases creativity and variability in responses.\n",
        "\n",
        "* **Unified Interface for Multiple Models:** LangChain's unified interface allows you to **seamlessly switch** between different **language models**, such as OpenAI, Cohere, HuggingFace, and Google Gemini, without needing to rewrite significant portions of your code. This makes it easy to adapt to different models depending on the task, whether you are using OpenAI for text generation, HuggingFace for summarization, or Google's Gemini for specialized tasks.\n",
        "\n",
        "This flexibility means you can leverage the strengths of multiple models in a single application, combining them in complex workflows. LangChain's abstraction layer ensures that you can switch and combine models easily without making extensive changes to your code, making it a powerful, **model-agnostic framework** that **adapts to** your **evolving needs**.\n",
        "\n",
        "**Important Note on API Keys:**\n",
        "API keys are required for each model you use, but they can be obtained for experimentation without any charges. Usage of these models is optional, and you can choose which models to try out based on your preferences and needs."
      ]
    },
    {
      "cell_type": "markdown",
      "metadata": {
        "id": "ySsbgnfXyFy2"
      },
      "source": [
        "### **Google Integration with LangChain**"
      ]
    },
    {
      "cell_type": "markdown",
      "metadata": {
        "id": "lEI_-kfuyFy4"
      },
      "source": [
        "Let's see how easy it is to switch from OpenAI and use the Google Gemini series of models."
      ]
    },
    {
      "cell_type": "markdown",
      "source": [
        "#### **Step 1: Get you API Key**\n",
        "\n",
        "A free Google AI API key can be obtained from: https://ai.google.dev/gemini-api/docs/api-key?hl=de.\n",
        "\n",
        "You can either store it as new secret (`GOOGLE_API_KEY`) or use the `getpass` module as explained in the section on how to handle sensitive data."
      ],
      "metadata": {
        "id": "KIvSKSEgk9oW"
      }
    },
    {
      "cell_type": "markdown",
      "source": [
        "#### **Step 2: Use the API Key**"
      ],
      "metadata": {
        "id": "rTaKt3oKAvHs"
      }
    },
    {
      "cell_type": "code",
      "source": [
        "# Uncomment when using passcode to be prompted to enter your API Key\n",
        "# In this case, remember to comment the line for using Colab Secrets Manager\n",
        "# os.environ[\"GOOGLE_API_KEY\"] = getpass.getpass(\"Enter your Google AI API key: \")\n",
        "\n",
        "# When using Colab Secrets Manager: Retrieve Google API key\n",
        "os.environ[\"GOOGLE_API_KEY\"] = userdata.get('GOOGLE_API_KEY')"
      ],
      "metadata": {
        "id": "FRDEfQb0mXHM"
      },
      "execution_count": null,
      "outputs": []
    },
    {
      "cell_type": "markdown",
      "metadata": {
        "id": "8X91P8QsyFy5"
      },
      "source": [
        "#### **Step 3: Install Google Integration**\n",
        "\n",
        "In a first step the google integration for LangChain needs to be installed."
      ]
    },
    {
      "cell_type": "code",
      "execution_count": null,
      "metadata": {
        "id": "3As7gokNyFy5"
      },
      "outputs": [],
      "source": [
        "%pip install -qU langchain-google-genai"
      ]
    },
    {
      "cell_type": "markdown",
      "metadata": {
        "id": "p2UIXmtAyFy6"
      },
      "source": [
        "#### **Step 4: Using Gemini-1.5-Pro to Generate Recipe**\n",
        "\n",
        "\n",
        "* **Reuse the Original Recipe Prompt Template:** You will use the `recipe_prompt_template` to create a recipe based on `cuisine` and `ingredients`, just as before.\n",
        "\n",
        "* **Switch Model to gemini-1.5-pro:** Instead of using OpenAI, you will now switch the model to `gemini-1.5-pro`. You can achieve this by adjusting the model initialization to use Gemini.\n",
        "\n",
        "* **Connect the Prompt Template and Model in a Chain:** You will connect the `recipe_prompt_template` with the `gemini-1.5-pro` model in a LangChain chain, then run the chain to generate a recipe response.\n"
      ]
    },
    {
      "cell_type": "code",
      "execution_count": null,
      "metadata": {
        "id": "Ba5COhbAyFy7"
      },
      "outputs": [],
      "source": [
        "from langchain_google_genai import ChatGoogleGenerativeAI\n",
        "\n",
        "# Step 1: Switch to Google model\n",
        "google_llm = ChatGoogleGenerativeAI(\n",
        "    model=\"gemini-1.5-pro\",\n",
        "    temperature=0,\n",
        "    max_tokens=8000, # max=8192\n",
        "    timeout=None,\n",
        "    max_retries=2,\n",
        "    # other params...\n",
        ")\n",
        "\n",
        "# Step 2: Create the LLMChain\n",
        "chain = LLMChain(llm=google_llm, prompt=recipe_prompt_template)"
      ]
    },
    {
      "cell_type": "code",
      "execution_count": null,
      "metadata": {
        "id": "z3Zy_4UOyFy8"
      },
      "outputs": [],
      "source": [
        "# Step 3: Run the Chain\n",
        "response = chain.invoke({\"cuisine\": \"Swiss\",\n",
        "    \"ingredients\": \"rice, pork, vegetables\"})\n",
        "\n",
        "display(Markdown(response[\"text\"]))"
      ]
    },
    {
      "cell_type": "markdown",
      "metadata": {
        "id": "et_1OCtw_UOH"
      },
      "source": [
        "### **Cohere Integration with LangChain**"
      ]
    },
    {
      "cell_type": "markdown",
      "metadata": {
        "id": "syexuBJyh_Bg"
      },
      "source": [
        "Let's see how easy it is to switch to Cohere."
      ]
    },
    {
      "cell_type": "markdown",
      "source": [
        "#### **Step 1: Get you API Key**\n",
        "\n",
        "A free Cohere API key can be obtained by registring at: https://dashboard.cohere.com/welcome/login.\n",
        "\n",
        "You can either store it as new secret (`COHERE_API_KEY`) or use the `getpass` module as explained in the section on how to handle sensitive data."
      ],
      "metadata": {
        "id": "MdOzpPZfqr0j"
      }
    },
    {
      "cell_type": "markdown",
      "source": [
        "#### **Step 2: Use the API Key**"
      ],
      "metadata": {
        "id": "JS6Yr3PVBE4A"
      }
    },
    {
      "cell_type": "code",
      "source": [
        "# Uncomment when using passcode to be prompted to enter your API Key\n",
        "# os.environ[\"COHERE_API_KEY\"] = getpass.getpass(\"Enter your Google AI API key: \")\n",
        "\n",
        "# When using Colab Secrets Manager: Retrieve COHERE API key\n",
        "os.environ[\"COHERE_API_KEY\"] = userdata.get('COHERE_API_KEY')"
      ],
      "metadata": {
        "id": "8wKtfJqdrB85"
      },
      "execution_count": null,
      "outputs": []
    },
    {
      "cell_type": "markdown",
      "metadata": {
        "id": "E-5luTNciHck"
      },
      "source": [
        "#### **Step 3: Install Cohere Integration**\n",
        "\n",
        "In a first step the cohere integration for LangChain needs to be installed."
      ]
    },
    {
      "cell_type": "code",
      "execution_count": null,
      "metadata": {
        "id": "w9Z-GNVmfSiS"
      },
      "outputs": [],
      "source": [
        "pip install -q langchain-cohere"
      ]
    },
    {
      "cell_type": "markdown",
      "metadata": {
        "id": "DS9xQbL0ifHA"
      },
      "source": [
        "#### **Step 4: Using Cohere to Generate Recipe**\n",
        "\n",
        "Now that you've worked with Google's Gemini model, let's switch to using Cohere to generate recipes!\n",
        "\n",
        "The model name for Cohere's text generation is `command-xlarge`, which is available for generating high-quality outputs like recipes.\n"
      ]
    },
    {
      "cell_type": "code",
      "execution_count": null,
      "metadata": {
        "id": "JCDcgrkqevOc"
      },
      "outputs": [],
      "source": [
        "from langchain.llms import Cohere\n",
        "\n",
        "# Step 1: Switch to Cohere model\n",
        "cohere_model = Cohere(model=\"command-xlarge\", temperature=0.8, max_tokens=4096) # max=4096)\n",
        "\n",
        "# Step 2: Create the LLMChain\n",
        "chain = LLMChain(llm=cohere_model, prompt=recipe_prompt_template)"
      ]
    },
    {
      "cell_type": "code",
      "execution_count": null,
      "metadata": {
        "id": "WaJjEWmKd9B0"
      },
      "outputs": [],
      "source": [
        "# Step 3: Run the Chain\n",
        "response = chain.invoke({\"cuisine\": \"Swiss\",\n",
        "    \"ingredients\": \"rice, pork, vegetables\"})\n",
        "\n",
        "display(Markdown(response[\"text\"]))"
      ]
    },
    {
      "cell_type": "markdown",
      "metadata": {
        "id": "JULwb_uN_a0_"
      },
      "source": [
        "### **HuggingFace Integration with LangChain**"
      ]
    },
    {
      "cell_type": "markdown",
      "metadata": {
        "id": "vK-vdRqLjVt1"
      },
      "source": [
        "HuggingFace integration allows us to easily leverage **publicly available pre-trained models** for a variety of tasks without needing to build them from scratch. The HuggingFace [ModelHub](https://huggingface.co/models) offers a vast collection of pre-trained models across a wide range of tasks, including **text generation, classification, translation, summarization**, and more. These models have been trained on large datasets and are optimized for high performance.These models can be used for:\n",
        "\n",
        "* **Inference:** Applying pre-trained models directly to tasks like text generation, translation, or classification.\n",
        "* **Fine-tuning:** Adapting models to suit specific applications or datasets.\n",
        "\n",
        "While pre-trained models from HuggingFace offer **more control and flexibility** than proprietary APIs (since they are open-source), they come with the trade-off that you need **sufficient computational resources** to run them, especially for larger models. The **hardware requirements**—such as GPU and memory—can exceed the capabilities of free-tier services like Colab, making it necessary to use cloud services or powerful local machines for more demanding models.\n",
        "\n",
        "The **primary advantage** of HuggingFace models is their **open-source nature**, allowing you to **fine-tune** them, **customize** them, and **fully understand their internals**, which isn't possible with closed APIs. However, compared to proprietary APIs like OpenAI, Cohere, or Google Gemini, you will need to manage the **infrastructure** required to run large models or choose to access advanced models via HuggingFace's **Inference API.** By using HuggingFace's Inference API, you can quickly access cutting-edge models without the need for local hardware resources or infrastructure setup."
      ]
    },
    {
      "cell_type": "markdown",
      "source": [
        "#### **Using HuggingFace Models for Complex Tasks**\n",
        "\n",
        "For **complex tasks** like recipe generation, you need models that can handle more sophisticated, nuanced input and generate **coherent, detailed outputs**. Smaller models available in HuggingFace's Model Hub like GPT-2 or other lightweight models often fall short in such scenarios, as they lack the **context retention** and **generation capabilities** required to produce detailed responses for tasks that demand **precision** and **contextual depth**.\n",
        "\n",
        "In such cases, **larger models** such as DeepSeek, LLama, Mistral (when configured properly) are better suited to the task. These models provide stronger performance in handling complex tasks like recipe generation, where the model needs to understand detailed ingredients, processes, and outputs.\n",
        "\n",
        "* **DeepSeek:** DeepSeek is known for its ability to handle complex tasks requiring deep contextual understanding and long-term coherence. It excels in generating accurate, contextually relevant outputs, making it well-suited for applications that involve detailed or multi-step processes, such as recipe generation.\n",
        "* **LLama**: Offers strong performance on tasks like text generation and classification, and excels in handling large input data while producing more contextually detailed outputs.\n",
        "* **Mistral**: A highly efficient model known for its superior performance on natural language tasks, particularly useful for context retention and coherent generation in complex applications.\n",
        "\n",
        "To access these models for tasks like recipe generation, it is most practical to use **HuggingFace's Inference API**, which allows you to run these **high-performance models in the cloud** without needing the hardware to support them locally. By accessing the models through the Inference API, you can bypass local infrastructure limitations while still utilizing advanced models like `DeepSeek-R1-Distill-Qwen-32B`, `Mistral-7B-Instruct-v0.3` and meta-llama/`Meta-Llama-3-8B-Instruct`."
      ],
      "metadata": {
        "id": "7yG8oguv57Ej"
      }
    },
    {
      "cell_type": "markdown",
      "source": [
        "#### **Step 1: Setting Up Your HuggingFace Account and Inference API Access**\n",
        "\n",
        "To access powerful models via the HuggingFace Inference API, you need to create a HuggingFace account, generate an access token, and configure your account properly.\n",
        "\n",
        "**Step 1.1: Create a HuggingFace Account**\n",
        "\n",
        "Navigate to https://huggingface.co/ and sign up to create a free account.\n",
        "\n",
        "**Step 1.2: Generate Your HuggingFace API Access Token**\n",
        "\n",
        "Login and navigate to your account settings. For this, once logged in, go to your profile (click on your username in the top-right corner) and select **Settings** from the dropdown menu.\n",
        "\n",
        "* In the **Settings** page, scroll down to the **Access Tokens** section and\n",
        "* Click **New Token**.\n",
        "* Choose the **token scope** you need (for Inference API access, you'll need **Read** access).\n",
        "* Click **Generate Token**.\n",
        "\n",
        "**Step 1.3: Configure the Access Token in Your Code**\n",
        "\n",
        "You can either store it as new secret (`HF_TOKEN`) or use the `getpass` module as explained in the section on how to handle sensitive data."
      ],
      "metadata": {
        "id": "ndXyKBzv8TIl"
      }
    },
    {
      "cell_type": "markdown",
      "source": [
        "#### **Step 2: Use the API Key**"
      ],
      "metadata": {
        "id": "7Ocl6u4eDTUS"
      }
    },
    {
      "cell_type": "code",
      "source": [
        "# Uncomment when using passcode to be prompted to enter your API Key\n",
        "# os.environ[\"HF_TOKEN\"] = getpass.getpass(\"Enter your Google AI API key: \")\n",
        "\n",
        "# When using Colab Secrets Manager: Retrieve COHERE API key\n",
        "os.environ[\"HF_TOKEN\"] = userdata.get('HF_TOKEN')"
      ],
      "metadata": {
        "id": "s_mGgetX8TIm"
      },
      "execution_count": null,
      "outputs": []
    },
    {
      "cell_type": "markdown",
      "metadata": {
        "id": "xl4NsBF38TIn"
      },
      "source": [
        "#### **Step 3: Install HuggingFace Integration**\n",
        "\n",
        "In a first step the HuggingFace integration for LangChain needs to be installed."
      ]
    },
    {
      "cell_type": "code",
      "execution_count": null,
      "metadata": {
        "id": "hdP_Bq3RvGir"
      },
      "outputs": [],
      "source": [
        "!pip install -q langchain-huggingface"
      ]
    },
    {
      "cell_type": "markdown",
      "source": [
        "#### **Step 4: Using HuggingFace to Generate Recipes**"
      ],
      "metadata": {
        "id": "38GOCm0IG541"
      }
    },
    {
      "cell_type": "markdown",
      "source": [
        "In this section, we will use the **HuggingFace integration** to access models for **text generation** via **the Inference API**, specifically through the **HuggingFaceEndpoint**.\n",
        "\n",
        "You can experiment with different models such as:\n",
        "* `deepseek-ai/DeepSeek-R1-Distill-Qwen-32B`\n",
        "* `meta-llama/Meta-Llama-3-8B-Instruct`\n",
        "* `mistralai/Mistral-7B-Instruct-v0.3`.\n",
        "\n",
        "**Important Notes on Model Access:**\n",
        "**Gated Models:** Some models, such as Llama or Mistral variants, are gated. This means that to gain access to them, you may need to provide additional information, such as sharing your contact details or submitting a request for access.\n",
        "\n",
        "**Pro Account Requirement:** Certain large models, including some advanced versions of  LLama (e.g.,\n",
        "`meta-llama/Llama-3.3-70B-Instruct`), may require a HuggingFace Pro account due to their high computational demands or not even be available via the inference API (e.g., `deepseek-ai/DeepSeek-R1` or `mistralai/Mistral-Large-Instruct-2411`) and require other inference providers.\n",
        "\n"
      ],
      "metadata": {
        "id": "S2R19vgbLczt"
      }
    },
    {
      "cell_type": "code",
      "execution_count": null,
      "metadata": {
        "id": "6O-DwgEl-nr0"
      },
      "outputs": [],
      "source": [
        "from langchain_huggingface import HuggingFaceEndpoint\n",
        "\n",
        "#Step 1: Switch to HF\n",
        "hf = HuggingFaceEndpoint(\n",
        "    repo_id=\n",
        "    #\"meta-llama/Llama-3.3-70B-Instruct\", #only with HuggingFace ProAccount\n",
        "    #\"deepseek-ai/DeepSeek-R1-Distill-Qwen-32B\", #in principle works with free HuggingFace account if model not too busy;\n",
        "    #\"meta-llama/Meta-Llama-3-8B-Instruct\", #gated model, works with free HuggingFace account and requires that you provide your data\n",
        "    \"mistralai/Mistral-7B-Instruct-v0.3\",  #gated model, works with free HuggingFace account and requires that you provide your data\n",
        "    task=\"text-generation\",\n",
        "    max_new_tokens=8000,\n",
        "    do_sample=False,\n",
        ")"
      ]
    },
    {
      "cell_type": "code",
      "execution_count": null,
      "metadata": {
        "id": "sGnOeAg7HH5Q"
      },
      "outputs": [],
      "source": [
        "# Step 2: Create the LLMChain\n",
        "chain = LLMChain(llm=hf, prompt=recipe_prompt_template)"
      ]
    },
    {
      "cell_type": "code",
      "execution_count": null,
      "metadata": {
        "id": "vxGei0F1HH5R"
      },
      "outputs": [],
      "source": [
        "# Step 3: Run the Chain\n",
        "response = chain.invoke({\"cuisine\": \"Swiss\",\n",
        "    \"ingredients\": \"rice, pork, vegetables\"})\n",
        "\n",
        "display(Markdown(response[\"text\"]))"
      ]
    },
    {
      "cell_type": "markdown",
      "metadata": {
        "id": "Sp5wohUBs1wn"
      },
      "source": [
        "## **Accessing and Integrating External Data Using Data Loader**"
      ]
    },
    {
      "cell_type": "markdown",
      "metadata": {
        "id": "LF5lQUcXkG6-"
      },
      "source": [
        "This section introduces another core component of LangChain: **Data Loader**. They play a crucial role in the framework by providing a way to load and process **data from external sources** (such as files, databases, or APIs) into a format that can be used by LangChain models and tools.\n"
      ]
    },
    {
      "cell_type": "markdown",
      "metadata": {
        "id": "yukhBG0ypXDI"
      },
      "source": [
        "### **Types of Loaders**"
      ]
    },
    {
      "cell_type": "markdown",
      "metadata": {
        "id": "takqqL9BkyBa"
      },
      "source": [
        "LangChain provides several types of loaders such as:\n",
        "\n",
        "*   File-based loaders (e.g., `PDFLoader`, `CSVLoader`)\n",
        "*   Web-based loaders (e.g., `WebBaseLoader`, `WikipediaLoader`, `YoutubeLoader`)\n",
        "*   API loaders\n",
        "*   Database loaders\n",
        "\n"
      ]
    },
    {
      "cell_type": "markdown",
      "metadata": {
        "id": "CkgDUhzso0xm"
      },
      "source": [
        "While these loaders handle different data sources, they output content in a consistent format (documents) for use in LangChain workflows.\n",
        "This consistency allows you to easily integrate diverse data into tasks like:\n",
        "* Summarization\n",
        "* Question answering\n",
        "* Semantic search\n",
        "* Data analysis"
      ]
    },
    {
      "cell_type": "markdown",
      "metadata": {
        "id": "zRCZEDEYBqRL"
      },
      "source": [
        "### **Loading and Preprocessing CSV Files**"
      ]
    },
    {
      "cell_type": "markdown",
      "metadata": {
        "id": "EOYeDZkaZmBN"
      },
      "source": [
        "This section shows how to use the `CSVLoader`. This module is from the `langchain_community library`. It's a loader specifically designed to load and process CSV files. This allows you to load structured data from a CSV file into a format that can be used for further analysis, such as in document-based tasks.\n",
        "\n"
      ]
    },
    {
      "cell_type": "markdown",
      "source": [
        "#### **Loading a Document from a CSV**"
      ],
      "metadata": {
        "id": "12GKlKzvN2lm"
      }
    },
    {
      "cell_type": "markdown",
      "source": [
        "`CSVLoader(file_path=\"/content/sample_data/heart_failure_clinical_records_small.csv\")`: initializes the `CSVLoader` with the path to a CSV file (in this case, a dataset related to heart failure clinical records). You can find the file on Canvas.\n",
        "\n",
        "`loader.load()`: This method loads the content of the CSV file. It reads the file and processes its contents so that it can be used in further analysis. Typically, this would load the CSV data as a list of documents or as a structured data object that can be worked with by the rest of the langchain pipeline.\n",
        "\n",
        "`docs` is the result of the `loader.load()` function call in your code. In the context of the `CSVLoader`, this would be a list of \"documents\" loaded from the CSV file. Each document typically represents a row of data or a chunk of the CSV file."
      ],
      "metadata": {
        "id": "77vKy4ntN7-T"
      }
    },
    {
      "cell_type": "code",
      "execution_count": null,
      "metadata": {
        "id": "clhtT2i6HLtT"
      },
      "outputs": [],
      "source": [
        "from langchain_community.document_loaders import CSVLoader\n",
        "\n",
        "# Load and split the CSV content\n",
        "loader = CSVLoader(file_path=\"/content/sample_data/heart_failure_clinical_records_small.csv\")\n",
        "docs = loader.load()"
      ]
    },
    {
      "cell_type": "code",
      "execution_count": null,
      "metadata": {
        "id": "Nr9ceQlFHpsI"
      },
      "outputs": [],
      "source": [
        "# prints the content of the CSV file\n",
        "docs"
      ]
    },
    {
      "cell_type": "markdown",
      "metadata": {
        "id": "_Vzc2QW1awL6"
      },
      "source": [
        "This code is used to check the type of the `docs` object. It will output the data type of the `docs` variable, which can help you understand what kind of structure it is.   "
      ]
    },
    {
      "cell_type": "code",
      "execution_count": null,
      "metadata": {
        "id": "IQYjQfokHw4j"
      },
      "outputs": [],
      "source": [
        "type(docs)"
      ]
    },
    {
      "cell_type": "markdown",
      "metadata": {
        "id": "wrPjc1V5bD2q"
      },
      "source": [
        "`docs[0]`: This accesses the first document in the list of loaded documents. In Python, lists are indexed starting from 0, so `docs[0]` will give you the first element.\n",
        "\n",
        "`page_content:` The `CSVLoader` returns a list of document objects, where each object has different attributes that represent various parts of the document (e.g., age, anaemia, diabetes, etc.). In this case, page_content would hold the textual information (such as the data of the first row) from the CSV file."
      ]
    },
    {
      "cell_type": "code",
      "execution_count": null,
      "metadata": {
        "id": "hgrNKowGH0DN"
      },
      "outputs": [],
      "source": [
        "print(docs[0].page_content)"
      ]
    },
    {
      "cell_type": "markdown",
      "source": [
        "#### **Using the Loaded Document for Context in LLM Queries**"
      ],
      "metadata": {
        "id": "fzNcmM_jOBny"
      }
    },
    {
      "cell_type": "markdown",
      "source": [
        "##### **Using a Prompt Template with OpenAI to Answer Questions Based on Document Content**\n",
        "\n",
        "The following code snippet defines a prompt template that passes the content of the loaded document to an OpenAI LLM (specifically, GPT-4) to answer questions related to the document."
      ],
      "metadata": {
        "id": "q6ZO0CcJO2lr"
      }
    },
    {
      "cell_type": "code",
      "execution_count": null,
      "metadata": {
        "id": "q7I9phd4bdqg"
      },
      "outputs": [],
      "source": [
        "from langchain_core.prompts import PromptTemplate\n",
        "\n",
        "# Step 1: Define the prompt template\n",
        "doc_prompt_template = PromptTemplate.from_template(\n",
        "    #\"{question} from the attached document: {doc}.\"\n",
        "    \"Answer {question} based on the provided document: {doc}.\"\n",
        ")"
      ]
    },
    {
      "cell_type": "markdown",
      "source": [
        "This template will take a question and the document content (loaded earlier) and format it to provide context for the LLM."
      ],
      "metadata": {
        "id": "JZiFMHc4PBLc"
      }
    },
    {
      "cell_type": "markdown",
      "source": [
        "#####  **Setting Up the Chain and Choosing the Right Model**"
      ],
      "metadata": {
        "id": "cXYXlcgaPE-I"
      }
    },
    {
      "cell_type": "markdown",
      "metadata": {
        "id": "sQy95e9mhG67"
      },
      "source": [
        "After defining the prompt template, the next step is to set up a chain that connects the prompt with the language model (LLM).\n",
        "\n",
        "It's important to note that instead of using the basic `OpenAI` class, we use `ChatOpenAI` to access the **GPT-4** model. GPT-4 offers **extended context capabilities**, which are necessary to pass the entire document as context. This is particularly important when dealing with larger documents, like CSV files, which may exceed the token limits of smaller models.\n",
        "\n",
        "By using **ChatOpenAI**, we ensure that the LLM can process the document's full content, enabling it to provide more accurate and relevant answers based on the specific document, rather than relying on general knowledge."
      ]
    },
    {
      "cell_type": "code",
      "execution_count": null,
      "metadata": {
        "id": "nP4HcrdAgxPy"
      },
      "outputs": [],
      "source": [
        "# Step 2: Set up OpenAI LLM\n",
        "from langchain_openai import ChatOpenAI\n",
        "llm_gpt4o = ChatOpenAI(temperature=0, model=\"gpt-4o\")\n",
        "# alternatively, use \"gpt-4o-mini\"\n",
        "chain = LLMChain(llm=llm_gpt4o, prompt=doc_prompt_template)"
      ]
    },
    {
      "cell_type": "markdown",
      "metadata": {
        "id": "GTL9mt6Ig-Je"
      },
      "source": [
        "Now let's try how well the LLM is at answering questions about the provided document."
      ]
    },
    {
      "cell_type": "code",
      "execution_count": null,
      "metadata": {
        "id": "PtyViZkXcCrp"
      },
      "outputs": [],
      "source": [
        "# Step 3: Run the Chain\n",
        "response = chain.invoke({\"question\": \"Give me the minimum age\",\"doc\": docs})\n",
        "display(Markdown(response[\"text\"]))"
      ]
    },
    {
      "cell_type": "code",
      "source": [
        "# Step 3: Run the Chain\n",
        "response = chain.invoke({\"question\": \"Give me the maximum age\",\"doc\": docs})\n",
        "display(Markdown(response[\"text\"]))"
      ],
      "metadata": {
        "id": "EPFoERiwIbCd"
      },
      "execution_count": null,
      "outputs": []
    },
    {
      "cell_type": "code",
      "source": [
        "# Step 3: Run the Chain\n",
        "response = chain.invoke({\"question\": \"Count the number of individuals who have diabetes, identified by the 'diabetes' column where the value is 1. Provide the total number and the percentage of diabetic individuals relative to the entire dataset.\",\"doc\": docs})\n",
        "display(Markdown(response[\"text\"]))"
      ],
      "metadata": {
        "id": "9-QNyJBiIbsN"
      },
      "execution_count": null,
      "outputs": []
    },
    {
      "cell_type": "markdown",
      "source": [
        "##### **Validating Answers with Pandas**"
      ],
      "metadata": {
        "id": "ZZOIPOpkPo34"
      }
    },
    {
      "cell_type": "markdown",
      "metadata": {
        "id": "52fzMwVVfzEQ"
      },
      "source": [
        "Once you've set up the model and generated answers, you can use **Pandas** to validate and **check the answers** by comparing them against the content of the CSV document."
      ]
    },
    {
      "cell_type": "code",
      "execution_count": null,
      "metadata": {
        "id": "2fz2MSchfSWM"
      },
      "outputs": [],
      "source": [
        "import pandas as pd\n",
        "\n",
        "# Step 1: Read the CSV file into a pandas DataFrame\n",
        "df = pd.read_csv(\"/content/sample_data/heart_failure_clinical_records_small.csv\")\n",
        "\n",
        "# Step 2: Calculate the minimum values for each column\n",
        "min_values = df[\"age\"].min()\n",
        "max_values = df[\"age\"].max()\n",
        "diabetes_count = df[df[\"diabetes\"] == 1].shape[0]\n",
        "overall_count = df.shape[0]\n",
        "\n",
        "# Display the minimum values\n",
        "print(min_values)\n",
        "print(max_values)\n",
        "print(diabetes_count)\n",
        "print(overall_count)"
      ]
    },
    {
      "cell_type": "markdown",
      "metadata": {
        "id": "KYs_TSK3km8P"
      },
      "source": [
        "### **Loading and Processing PDF Files**"
      ]
    },
    {
      "cell_type": "markdown",
      "metadata": {
        "id": "9108NCTmmCZm"
      },
      "source": [
        "The next section shows how to load and process PDF Files. It specifically extracts structured data from the PDF and uses a prompt template to retrieve additional information.\n"
      ]
    },
    {
      "cell_type": "markdown",
      "metadata": {
        "id": "cvOAULU1mZua"
      },
      "source": [
        "We will use the `PyPDFLoader` from the `langchain_community.document_loaders` module to load and process text-based PDF files. It allows you to read PDF content, and you can split the document into separate pages for further processing.\n"
      ]
    },
    {
      "cell_type": "code",
      "execution_count": null,
      "metadata": {
        "id": "cb1o6F7MtiuU"
      },
      "outputs": [],
      "source": [
        "pip install -q pypdf"
      ]
    },
    {
      "cell_type": "markdown",
      "source": [
        "##### **Loading a Document from a PDF**"
      ],
      "metadata": {
        "id": "KOYAnbSxSi25"
      }
    },
    {
      "cell_type": "markdown",
      "metadata": {
        "id": "dKO4u3YsmuKq"
      },
      "source": [
        "We You can load and split a PDF into individual pages using `PyPDFLoader`."
      ]
    },
    {
      "cell_type": "code",
      "execution_count": null,
      "metadata": {
        "id": "3kbvHpTktYxi"
      },
      "outputs": [],
      "source": [
        "from langchain_community.document_loaders import PyPDFLoader\n",
        "\n",
        "loader = PyPDFLoader(\"/content/sample_data/class-list-emba-67-fiction.pdf\")\n",
        "pages = loader.load()"
      ]
    },
    {
      "cell_type": "markdown",
      "metadata": {
        "id": "vJKPOzTQnDFd"
      },
      "source": [
        "Let's extract the content of the first page using `pages[0]`."
      ]
    },
    {
      "cell_type": "code",
      "execution_count": null,
      "metadata": {
        "id": "NIlDyniRzQii"
      },
      "outputs": [],
      "source": [
        "pages[0]"
      ]
    },
    {
      "cell_type": "markdown",
      "source": [
        "##### **Using LLMS to Extract and Structure Data from PDFs**"
      ],
      "metadata": {
        "id": "hAAEmsk5S00W"
      }
    },
    {
      "cell_type": "markdown",
      "metadata": {
        "id": "dy28Xt2DnJgI"
      },
      "source": [
        "To extract data into a more structured manner we create a prompt template. The template takes the unstructured document content as an input (page-wise) and extracts a json document with name, job role, company, and e-mail."
      ]
    },
    {
      "cell_type": "code",
      "execution_count": null,
      "metadata": {
        "id": "xZlBCKfX4Nde"
      },
      "outputs": [],
      "source": [
        "from langchain_openai import ChatOpenAI\n",
        "from langchain.prompts import PromptTemplate\n",
        "from langchain.chains import LLMChain\n",
        "import json\n",
        "\n",
        "llm=ChatOpenAI(model=\"gpt-4o\")\n",
        "\n",
        "template=\"\"\"\n",
        "you are an intelligent bot who can analyze any text with course participant information {doc_text} ,\n",
        "your job is to read and analyse the information and create a json dictionary.\n",
        "dictionary has the following keys:\n",
        "Name:\n",
        "Job Role:\n",
        "Company:\n",
        "E-Mail\n",
        "output must be json nothing else\n",
        "\"\"\"\n",
        "\n",
        "prompt = PromptTemplate(template=template,input_variables=[\"doc_text\"])\n",
        "\n",
        "llmchain = LLMChain(llm=llm, prompt=prompt)\n",
        "\n",
        "participant_data=[]\n",
        "\n",
        "for page in pages:\n",
        "    response=llmchain.invoke({\"doc_text\":page.page_content})\n",
        "    data=response[\"text\"]\n",
        "    data=data.replace(\"json\",\"\")\n",
        "    data=data.replace(\"`\",\"\")\n",
        "    data=json.loads(data)\n",
        "    participant_data.append(data)"
      ]
    },
    {
      "cell_type": "markdown",
      "source": [
        "##### **Enhancing Extracted Data with LLMs: Retrieving Additional Information**"
      ],
      "metadata": {
        "id": "H_zImm9ITqIT"
      }
    },
    {
      "cell_type": "markdown",
      "metadata": {
        "id": "EhqML-0ci619"
      },
      "source": [
        "We can define a prompt template and chain to obtain detailed information about the companies in the document."
      ]
    },
    {
      "cell_type": "code",
      "execution_count": null,
      "metadata": {
        "id": "n6PajzdJpL-r"
      },
      "outputs": [],
      "source": [
        "from langchain.prompts import PromptTemplate\n",
        "\n",
        "# Define the prompt template to extract company information\n",
        "company_info_prompt = PromptTemplate(\n",
        "    input_variables=[\"company_name\"],\n",
        "    template=\"Can you provide some detailed information about the company called '{company_name}'? Include details like its industry, products, and any notable facts except financial aspects in 50 words.\"\n",
        ")\n",
        "\n",
        "# Initialize OpenAI model with your API key\n",
        "openai_model = OpenAI(temperature=0)\n",
        "\n",
        "# Initialize the LLMChain with the defined prompt and OpenAI model\n",
        "llm_chain = LLMChain(prompt=company_info_prompt, llm=openai_model,)"
      ]
    },
    {
      "cell_type": "markdown",
      "metadata": {
        "id": "rtPmB27Wj2yh"
      },
      "source": [
        "We iterate through the people in the document and run the chain for each of them to obtain the company information.\n",
        "\n",
        "We print the person details, along with the detailed company information we obtained."
      ]
    },
    {
      "cell_type": "code",
      "execution_count": null,
      "metadata": {
        "id": "-ashWJGKUZ84"
      },
      "outputs": [],
      "source": [
        "# Loop through the data and extract useful information\n",
        "for group in participant_data:\n",
        "    for person in group:\n",
        "\n",
        "        # Run the chain with a company name (for example, \"Apple\")\n",
        "        response = llm_chain.run({\"company_name\": {person['Company']}})\n",
        "\n",
        "        # Print extracted information\n",
        "        display(Markdown(\"Name: \" + person['Name']))\n",
        "        display(Markdown(\"Job Role: \" + person['Job Role']))\n",
        "        display(Markdown(\"E-Mail: \" + person['E-Mail']))\n",
        "        display(Markdown(\"Company: \" + person['Company']))\n",
        "        display(Markdown(\"Company Details: \" + response))\n",
        "        display(Markdown(\"-\" * 40))"
      ]
    },
    {
      "cell_type": "markdown",
      "source": [
        "##### **Using the Loaded Document for Context in LLM Queries**"
      ],
      "metadata": {
        "id": "MPq3um0UUH47"
      }
    },
    {
      "cell_type": "markdown",
      "metadata": {
        "id": "xElRMRhG1dOF"
      },
      "source": [
        "Now let's reuse the previously created prompt template to ask questions about the loaded document."
      ]
    },
    {
      "cell_type": "code",
      "execution_count": null,
      "metadata": {
        "id": "qHJx__nn1RW9"
      },
      "outputs": [],
      "source": [
        "#Run the Chain\n",
        "response = chain.run(question=\"What is the company Tim Apple works for?\",doc=participant_data)\n",
        "display(Markdown(response))"
      ]
    },
    {
      "cell_type": "code",
      "execution_count": null,
      "metadata": {
        "id": "M1azV2GK1tn7"
      },
      "outputs": [],
      "source": [
        "#Run the Chain\n",
        "response = chain.run(question=\"Where is the company Tim Apple works for located?\",doc=participant_data)\n",
        "display(Markdown(response))"
      ]
    },
    {
      "cell_type": "markdown",
      "metadata": {
        "id": "gDOPYFokxzdE"
      },
      "source": [
        "### **Loading and Processing Web Content**\n"
      ]
    },
    {
      "cell_type": "markdown",
      "metadata": {
        "id": "FKhZzrJR-Snk"
      },
      "source": [
        "To load and process web content, we first import the required libraries\n",
        "\n",
        "* `WebBaseLoader:` A tool in LangChain to load and parse the content of a web site.\n",
        "* `load_summarize_chain:` A function to create a summarization workflow using a chain of operations."
      ]
    },
    {
      "cell_type": "code",
      "execution_count": null,
      "metadata": {
        "id": "5vdNiwDQ-K3q"
      },
      "outputs": [],
      "source": [
        "from langchain_community.document_loaders import WebBaseLoader\n",
        "from langchain.chains.summarize import load_summarize_chain"
      ]
    },
    {
      "cell_type": "markdown",
      "source": [
        "##### **Loading a Document from a Webpage**"
      ],
      "metadata": {
        "id": "JCynnttZUmi2"
      }
    },
    {
      "cell_type": "markdown",
      "metadata": {
        "id": "nggd2CBs981t"
      },
      "source": [
        "The `WebBaseLoader` is initialized with the URL of the webpage you want to load."
      ]
    },
    {
      "cell_type": "code",
      "execution_count": null,
      "metadata": {
        "id": "TNyASGqn-I5P"
      },
      "outputs": [],
      "source": [
        "loader = WebBaseLoader(\"https://www.missmollymac.com/post/the-ultimate-guide-to-big-bend-national-park\")\n"
      ]
    },
    {
      "cell_type": "markdown",
      "metadata": {
        "id": "tcUympVG-IA6"
      },
      "source": [
        "This disables SSL certificate verification. It's useful if the website has an invalid or self-signed SSL certificate.\n",
        "\n",
        "**Caution:** Disabling SSL verification can expose your system to security risks."
      ]
    },
    {
      "cell_type": "code",
      "execution_count": null,
      "metadata": {
        "id": "vtG2_uoP-m6E"
      },
      "outputs": [],
      "source": [
        "loader.requests_kwargs = {'verify':False}"
      ]
    },
    {
      "cell_type": "markdown",
      "metadata": {
        "id": "LueShu_e_6SV"
      },
      "source": [
        "Then, `loader.load_and_split()` loads the webpage content using a predefined loader (e.g., `WebBaseLoader` in LangChain) and splits the content into smaller chunks to make it easier to process, especially for long texts."
      ]
    },
    {
      "cell_type": "code",
      "execution_count": null,
      "metadata": {
        "id": "kc1RprtAAJLa"
      },
      "outputs": [],
      "source": [
        "# Step 1: Load the Web Content\n",
        "docs = loader.load_and_split()"
      ]
    },
    {
      "cell_type": "markdown",
      "source": [
        "##### **Using a Summarizer Chain to Summarize the Content**"
      ],
      "metadata": {
        "id": "M-lodGJxUvgf"
      }
    },
    {
      "cell_type": "markdown",
      "metadata": {
        "id": "FbMRy8Y8vEo_"
      },
      "source": [
        "Then set up a summarize chain to create a summary of the content.\n",
        "\n",
        "For this, we set up the largue language model (`llm_gpt_4o_mini = ChatOpenAI(model=\"gpt-4o-mini\", temperature=0`) and we create a summarization chain: `summarize_chain = load_summarize_chain(llm, chain_type=\"map_reduce\")`. This summarization chain uses a map-reduce strategy:\n",
        "* **Map Step:** Processes chunks of the transcript individually and generates partial summaries.\n",
        "* **Reduce Step:** Aggregates the partial summaries into a cohesive final summary.\n",
        "\n",
        "This approach is useful for handling long documents by breaking them into smaller, manageable parts. Finally we run the chain and store the summary in a variable `summary` and print the summary."
      ]
    },
    {
      "cell_type": "code",
      "execution_count": null,
      "metadata": {
        "id": "jieEt_qTuec8"
      },
      "outputs": [],
      "source": [
        "# Set up OpenAI LLM\n",
        "llm_gpt_4o_mini = ChatOpenAI(model=\"gpt-4o-mini\", temperature=0)\n",
        "\n",
        "# Set up the Summarization Chain\n",
        "summarize_chain = load_summarize_chain(llm_gpt_4o_mini, chain_type=\"map_reduce\")\n",
        "\n",
        "# Run the Chain to Summarize\n",
        "summary = summarize_chain.run(docs)\n",
        "\n",
        "# Print the Summary\n",
        "display(Markdown(\"Summary:\"))\n",
        "display(Markdown(summary))"
      ]
    },
    {
      "cell_type": "markdown",
      "source": [
        "#### **LLM-based Document Content Cleaning**"
      ],
      "metadata": {
        "id": "edRNyjsXG0Ro"
      }
    },
    {
      "cell_type": "markdown",
      "metadata": {
        "id": "Zc-HTYOwAqJA"
      },
      "source": [
        "In the next step we will use the LLM to clean the document content and remove unwanted characters and whitespaces."
      ]
    },
    {
      "cell_type": "code",
      "execution_count": null,
      "metadata": {
        "id": "rBhynjngDtmr"
      },
      "outputs": [],
      "source": [
        "print(docs)"
      ]
    },
    {
      "cell_type": "code",
      "execution_count": null,
      "metadata": {
        "id": "LjDbZaTrA6rF"
      },
      "outputs": [],
      "source": [
        "# Define the prompt template\n",
        "cleaning_prompt_template = PromptTemplate(\n",
        "    input_variables = [\"document\"],\n",
        "    template = \"Clean the raw text provided in {document} by removing unwanted characters and normalizing whitespace. Replace multiple spaces/newlines with a single space and remove special characters.\"\n",
        ")\n",
        "\n",
        "#Define the llm\n",
        "#llm = ChatOpenAI(model=\"gpt-4o\", temperature=0.7)\n",
        "#We reuse the previously defined model llm_gpt_4o_mini\n",
        "\n",
        "#Define the chain\n",
        "cleaning_chain = LLMChain(llm=llm_gpt_4o_mini, prompt=cleaning_prompt_template)\n",
        "\n",
        "#Run the chain\n",
        "cleaned_documents = cleaning_chain.run(docs)\n",
        "\n",
        "#Display the cleaned content\n",
        "display(Markdown(cleaned_documents))"
      ]
    },
    {
      "cell_type": "markdown",
      "metadata": {
        "id": "QYluC0SO5l_c"
      },
      "source": [
        "### **Loading and Parsing the Transcript of a YouTube video**"
      ]
    },
    {
      "cell_type": "markdown",
      "metadata": {
        "id": "qnrbe0gD305y"
      },
      "source": [
        "The next example shows how to use the YoutubeLoader to laod and parse the transcript of a YouTube video. The transcript is then summarized."
      ]
    },
    {
      "cell_type": "code",
      "execution_count": null,
      "metadata": {
        "id": "zc4Uz76K1caD"
      },
      "outputs": [],
      "source": [
        "%pip install --upgrade --quiet  youtube-transcript-api"
      ]
    },
    {
      "cell_type": "markdown",
      "metadata": {
        "id": "wygR4PJt6e4k"
      },
      "source": [
        "First we import the required libraries:\n",
        "* `YoutubeLoader:` A tool in LangChain to extract and parse transcripts from YouTube videos."
      ]
    },
    {
      "cell_type": "code",
      "execution_count": null,
      "metadata": {
        "id": "pulaVLdO6yvL"
      },
      "outputs": [],
      "source": [
        "from langchain.document_loaders import YoutubeLoader"
      ]
    },
    {
      "cell_type": "markdown",
      "metadata": {
        "id": "x_dIt6S_63JT"
      },
      "source": [
        "In the next snippet `YoutubeLoader.from_youtube_url(...)` extracts the transcript from the specified YouTube video URL.\n",
        "Option `add_video_info=False`n determines whether to include metadata (e.g., title, description) about the video. Setting it to `False` means only the transcript is loaded.\n",
        "Then, `video = loader.load()` loads and stores the transcript into the `video` variable. The transcript is parsed into a document format that LangChain can process."
      ]
    },
    {
      "cell_type": "code",
      "execution_count": null,
      "metadata": {
        "id": "17yxAtgJ1EQ2"
      },
      "outputs": [],
      "source": [
        "# Step 1: Use the YoutubeLoader to load and parse the transcript of a YouTube video\n",
        "loader = YoutubeLoader.from_youtube_url(\n",
        "    \"https://www.youtube.com/watch?v=Lbt_eIdzHf8\", add_video_info=False\n",
        ")\n",
        "video = loader.load()"
      ]
    },
    {
      "cell_type": "markdown",
      "metadata": {
        "id": "hXKHZmTh6MMc"
      },
      "source": [
        "Next we use the summarizer chain we set up already when processing web content and run the chain, this time by passing the video content, and receive a `summary` as an output."
      ]
    },
    {
      "cell_type": "code",
      "execution_count": null,
      "metadata": {
        "id": "Aoyq62YR7vqf"
      },
      "outputs": [],
      "source": [
        "#Reuse summarizer chain from before\n",
        "# Step 2: Set up OpenAI LLM\n",
        "#llm = OpenAI(model=\"gpt-4o-mini\", temperature=0)\n",
        "\n",
        "# Step 3: Set up the Summarization Chain\n",
        "#summarize_chain = load_summarize_chain(llm, chain_type=\"map_reduce\")\n",
        "\n",
        "# Step 4: Run the Chain to Summarize\n",
        "summary = summarize_chain.run(video)\n",
        "\n",
        "# Step 5: Print the Summary\n",
        "display(Markdown(\"Summary:\"))\n",
        "display(Markdown(summary))"
      ]
    },
    {
      "cell_type": "markdown",
      "metadata": {
        "id": "6D7OdUa85fLX"
      },
      "source": [
        "### **Loading Content from Wikipedia**"
      ]
    },
    {
      "cell_type": "code",
      "execution_count": null,
      "metadata": {
        "id": "ulS_LEuJ5MEB"
      },
      "outputs": [],
      "source": [
        "!pip install -q wikipedia"
      ]
    },
    {
      "cell_type": "markdown",
      "source": [
        "##### **Loading a Document from Wikipedia**"
      ],
      "metadata": {
        "id": "sXw40SwiUZcQ"
      }
    },
    {
      "cell_type": "markdown",
      "metadata": {
        "id": "PqhYxFhZ9RnJ"
      },
      "source": [
        "\n",
        "This process uses LangChain's `WikipediaLoader` to fetch content from a Wikipedia page. It retrieves the specified page's text (e.g., \"Machine learning\") and processes it as a structured document."
      ]
    },
    {
      "cell_type": "code",
      "execution_count": null,
      "metadata": {
        "id": "Ivc8NfQn402V"
      },
      "outputs": [],
      "source": [
        "from langchain.document_loaders import WikipediaLoader\n",
        "\n",
        "# Load content from Wikipedia using WikipediaLoader\n",
        "loader = WikipediaLoader(\"Machine_learning\")\n",
        "document = loader.load()\n",
        "display(Markdown(document[0].page_content))"
      ]
    },
    {
      "cell_type": "markdown",
      "metadata": {
        "id": "kSK9Wip0FV6-"
      },
      "source": [
        "## Tools"
      ]
    },
    {
      "cell_type": "markdown",
      "metadata": {
        "id": "vr2qSz7xFej7"
      },
      "source": [
        "LangChain empowers developers to build sophisticated AI-driven applications by providing an abstraction layer that integrates various language models and tools. Within LangChain, tools are critical components that enable models to perform specialized tasks, interact with external systems, and extend their functionality beyond generating or analyzing text.\n",
        "\n",
        "Tools in LangChain are designed to:\n",
        "\n",
        "* **Enhance Functionality:** By integrating tools, models can perform actions like generating images, converting text to speech, or retrieving real-time information.\n",
        "* **Enable Multimodal Workflows:** Seamlessly bridge different data formats (text, images, audio, etc.).\n",
        "* **Simplify Complexity:** Provide a unified interface for accessing and combining specialized capabilities into larger AI workflows.\n",
        "\n"
      ]
    },
    {
      "cell_type": "markdown",
      "metadata": {
        "id": "B5Vg8t52NgNU"
      },
      "source": [
        "With this notebook we will introduce several tools:\n",
        "\n",
        "* **Serper (Web Search Integration)**: The Serper tool enables LangChain to perform real-time web searches, allowing your applications to retrieve and process up-to-date information.\n",
        "* **DALL-E with LangChain**: The DALL-E tool in LangChain allows integration with OpenAI's image generation capabilities which you already know from the previous notebook.\n",
        "* **Text-to-Speech (TTS) Integration**:\n",
        "Purpose: LangChain's TTS tool converts model-generated or user-provided text into spoken audio."
      ]
    },
    {
      "cell_type": "markdown",
      "metadata": {
        "id": "GZaD6z0Mh0jF"
      },
      "source": [
        "### Google Serper"
      ]
    },
    {
      "cell_type": "markdown",
      "metadata": {
        "id": "ekwciNDUkgfa"
      },
      "source": [
        "Google Serper is a tool that provides a simple interface to conduct Google searches programmatically. It retrieves search results directly from Google, allowing you to access up-to-date and relevant web data without the complexity of dealing with Google’s Custom Search API. This tool simplifies the process of pulling real-time information from the web and integrating it with your LangChain applications."
      ]
    },
    {
      "cell_type": "markdown",
      "source": [
        "#### **Step 1: Get you API Key**"
      ],
      "metadata": {
        "id": "CLhRXwn9SkBl"
      }
    },
    {
      "cell_type": "markdown",
      "metadata": {
        "id": "sCHGdcPmlYhm"
      },
      "source": [
        "First you need to sign up for a free account at https://serper.dev/ and add it to your secrets.\n",
        "\n"
      ]
    },
    {
      "cell_type": "markdown",
      "source": [
        "#### **Step 2: Use API Key**"
      ],
      "metadata": {
        "id": "48jtDtEbSuhF"
      }
    },
    {
      "cell_type": "code",
      "execution_count": null,
      "metadata": {
        "id": "5xK4oPmMiWKa"
      },
      "outputs": [],
      "source": [
        "os.environ[\"SERPER_API_KEY\"] = userdata.get('SERPER_API_KEY')\n",
        "#When using getpass\n",
        "#os.environ['SERPER_API_KEY'] = getpass.getpass()"
      ]
    },
    {
      "cell_type": "markdown",
      "source": [
        "#### **Step 3: Perform a Google Search using Serper API**"
      ],
      "metadata": {
        "id": "ojCCyaDZTnLn"
      }
    },
    {
      "cell_type": "markdown",
      "metadata": {
        "id": "BhyacsaYmK5a"
      },
      "source": [
        "Next import the `GoogleSerperAPIWrapper` from langchain_community. Then\n",
        "create an instance of the `GoogleSerperAPIWrapper` class. This object (`search`) will allow you to perform Google searches through the `run` method.\n",
        "\n",
        "The `run()` method of the `GoogleSerperAPIWrapper` is called with the search query, e.g., **Obama's first name?**. This sends a request to Google via the Serper API, performing a search on Google for the query.\n",
        "The `response` variable now holds the data returned from Google search. With `pprint.pp(response)` the response is printed in a pretty way."
      ]
    },
    {
      "cell_type": "code",
      "execution_count": null,
      "metadata": {
        "id": "wTW5Lw2mh19w"
      },
      "outputs": [],
      "source": [
        "from langchain_community.utilities import GoogleSerperAPIWrapper\n",
        "\n",
        "search = GoogleSerperAPIWrapper()\n",
        "\n",
        "response = search.run(\"Obama's first name?\")\n",
        "\n",
        "print(response)"
      ]
    },
    {
      "cell_type": "markdown",
      "metadata": {
        "id": "H5nPeDF0IKCD"
      },
      "source": [
        "### DALL-E Tool"
      ]
    },
    {
      "cell_type": "markdown",
      "metadata": {
        "id": "i3ZUpZ5-KrFk"
      },
      "source": [
        "Here you learn how to use DALL-E within Langchain.\n",
        "\n",
        "First, we need to import the `DALLEAPIWrapper`."
      ]
    },
    {
      "cell_type": "code",
      "execution_count": null,
      "metadata": {
        "id": "22k_9wUYLbYa"
      },
      "outputs": [],
      "source": [
        "from langchain_community.utilities.dalle_image_generator import DallEAPIWrapper"
      ]
    },
    {
      "cell_type": "markdown",
      "metadata": {
        "id": "Cewzdz00LcTK"
      },
      "source": [
        "Then we set up the OpenAI LLM. `OpenAI(temperature=0.9)` initializes the LLM with a `temperature` setting of 0.9, making the text generation more creative by increasing randomness."
      ]
    },
    {
      "cell_type": "code",
      "execution_count": null,
      "metadata": {
        "id": "p0N5WItAGXXZ"
      },
      "outputs": [],
      "source": [
        "gpt4o_mini_high_temp  = OpenAI(temperature=0.9)"
      ]
    },
    {
      "cell_type": "markdown",
      "metadata": {
        "id": "NkPpQqolL4Bv"
      },
      "source": [
        "Then we set up the prompt template. The `PromptTemplate` generates a structured prompt where `{image_desc}` is replaced with a specific description. We configure the template in such a way that the prompt limits the generated response to a maximum of 1000 tokens."
      ]
    },
    {
      "cell_type": "code",
      "execution_count": null,
      "metadata": {
        "id": "b3WrhD8KLwZ5"
      },
      "outputs": [],
      "source": [
        "prompt = PromptTemplate(\n",
        "    input_variables=[\"image_desc\"],\n",
        "    template=\"Generate prompt with max 1000 tokens based on description: {image_desc}\",\n",
        ")"
      ]
    },
    {
      "cell_type": "markdown",
      "metadata": {
        "id": "gToG_3U4MMr6"
      },
      "source": [
        "Next we create a `LLMChain` to link the OpenAI LLM to the prompt template. It ensures the template and input are passed to the LLM for prompt generation."
      ]
    },
    {
      "cell_type": "code",
      "execution_count": null,
      "metadata": {
        "id": "E0_V2-3CLyV4"
      },
      "outputs": [],
      "source": [
        "chain = LLMChain(llm=gpt4o_mini_high_temp, prompt=prompt)"
      ]
    },
    {
      "cell_type": "markdown",
      "metadata": {
        "id": "XW-93IKDMT2g"
      },
      "source": [
        "Then we run the chain.\n",
        "* `chain.run()` executes the chain, replacing `{image_desc}` with *\"halloween night at a haunted museum\"* and generating the corresponding text prompt.\n",
        "*`DallEAPIWrapper().run()` uses the generated text prompt to create an image using DALL-E and returns the image URL."
      ]
    },
    {
      "cell_type": "code",
      "execution_count": null,
      "metadata": {
        "id": "Kd1aeHrhqjbw"
      },
      "outputs": [],
      "source": [
        "response = chain.invoke({\"image_desc\":\"halloween night at a haunted museum\"})\n",
        "refinedImagePrompt = response[\"text\"]\n",
        "display(Markdown(refinedImagePrompt))"
      ]
    },
    {
      "cell_type": "code",
      "execution_count": null,
      "metadata": {
        "id": "8mqqxDg-Gd9j"
      },
      "outputs": [],
      "source": [
        "image_url = DallEAPIWrapper(model=\"dall-e-3\").run(refinedImagePrompt)"
      ]
    },
    {
      "cell_type": "markdown",
      "metadata": {
        "id": "EIQHexMZMom7"
      },
      "source": [
        "In a next step the generated image is shown."
      ]
    },
    {
      "cell_type": "code",
      "execution_count": null,
      "metadata": {
        "id": "cyx13-uSGlnq"
      },
      "outputs": [],
      "source": [
        "from PIL import Image\n",
        "import urllib.request\n",
        "\n",
        "with urllib.request.urlopen(image_url) as url:\n",
        "    img=Image.open(url)\n",
        "    display(img)"
      ]
    },
    {
      "cell_type": "markdown",
      "metadata": {
        "id": "bqsvXXyzIN_b"
      },
      "source": [
        "### Google TTS Tool"
      ]
    },
    {
      "cell_type": "markdown",
      "metadata": {
        "id": "GB6sucSs0f5S"
      },
      "source": [
        "In this notebook, we will explore how to integrate OpenAI's language model with Google Text-to-Speech (gTTS) using LangChain. The goal is to generate a text response using OpenAI's GPT-3 model and convert that response into speech, which can be played back directly in the notebook.\n",
        "\n",
        "The process involves:\n",
        "1. Generating a text-based response using the OpenAI model.\n",
        "2. Converting the generated text into speech using gTTS.\n",
        "3. Playing the generated speech within the notebook.\n",
        "\n"
      ]
    },
    {
      "cell_type": "code",
      "execution_count": null,
      "metadata": {
        "id": "dNxYnNuMpTLz"
      },
      "outputs": [],
      "source": [
        "!pip install -q gtts"
      ]
    },
    {
      "cell_type": "markdown",
      "metadata": {
        "id": "zbYCjOu3ysNy"
      },
      "source": [
        "Imports necessary modules for building LangChain agents with tools, generating text via OpenAI's models, converting text to speech with gTTS, and displaying audio in Jupyter notebooks."
      ]
    },
    {
      "cell_type": "code",
      "execution_count": null,
      "metadata": {
        "id": "SK3d9yLBySFG"
      },
      "outputs": [],
      "source": [
        "from langchain.agents import Tool #initialize_agent, Tool, AgentType\n",
        "from gtts import gTTS\n",
        "import IPython.display as ipd"
      ]
    },
    {
      "cell_type": "markdown",
      "metadata": {
        "id": "XOxELecqyYtK"
      },
      "source": [
        "This function takes `text` as input, converts it to speech using the **gTTS** library, and saves it as an **MP3 file** (`response.mp3`).\n",
        "It then returns the **filename** of the saved MP3 file (`response.mp3`), which can later be used to play or access the au"
      ]
    },
    {
      "cell_type": "code",
      "execution_count": null,
      "metadata": {
        "id": "-4kVrL3uyagW"
      },
      "outputs": [],
      "source": [
        "# Define a function to convert text to speech using gTTS\n",
        "def text_to_speech(text: str):\n",
        "    # Use gTTS to convert the text to speech\n",
        "    tts = gTTS(text=text, lang='en')\n",
        "    filename = \"response.mp3\"\n",
        "    tts.save(filename)  # Save the speech as an MP3 file\n",
        "    return filename"
      ]
    },
    {
      "cell_type": "markdown",
      "metadata": {
        "id": "G92Xf030yPWf"
      },
      "source": [
        "This `Tool` integrates the `text_to_speech` function with LangChain. It allows you to define how the function should be used in the LangChain ecosystem.\n",
        "`name`: The name of the tool is gTTS.\n",
        "`func`: This refers to the function (`text_to_speech`) that will be called when the tool is invoked.\n",
        "`description`: A brief description of what the tool does, which will be used for documentation or interaction purposes."
      ]
    },
    {
      "cell_type": "code",
      "execution_count": null,
      "metadata": {
        "id": "JKy26CwczQdB"
      },
      "outputs": [],
      "source": [
        "# Define the gTTS tool for LangChain\n",
        "gtts_tool = Tool(\n",
        "    name=\"gTTS\",\n",
        "    func=text_to_speech,\n",
        "    description=\"Converts text to speech and returns the filename.\"\n",
        ")"
      ]
    },
    {
      "cell_type": "markdown",
      "metadata": {
        "id": "A1MWI2i9zWHu"
      },
      "source": [
        "Here, you're initializing the LangChain LLM interface to use OpenAI's GPT-3.5-turbo-instruct model to generate a text response."
      ]
    },
    {
      "cell_type": "code",
      "execution_count": null,
      "metadata": {
        "id": "lV85MGmszfnv"
      },
      "outputs": [],
      "source": [
        "# Initialize LangChain LLM (OpenAI in this case)\n",
        "gpt40_mini = ChatOpenAI(model=\"gpt-4o-mini\")  # Use any compatible LLM model"
      ]
    },
    {
      "cell_type": "markdown",
      "metadata": {
        "id": "p4P5LSLizfO2"
      },
      "source": [
        "The **query** is passed to the LLM (`gpt40_mini`) to generate a response. The `response_text` will contain the generated text from the LLM, which answers the query."
      ]
    },
    {
      "cell_type": "code",
      "execution_count": null,
      "metadata": {
        "id": "HLSGTRCOz337"
      },
      "outputs": [],
      "source": [
        "# Generate a text response using the LLM\n",
        "query = \"Tell me an interesting fact about the Eiffel Tower.\"\n",
        "response = gpt40_mini(query)\n",
        "\n",
        "# Print the generated text response\n",
        "response_text = response.content\n",
        "display(Markdown(\"Generated Response:\"))\n",
        "display(Markdown(response_text))"
      ]
    },
    {
      "cell_type": "markdown",
      "metadata": {
        "id": "9iL92y2B0B7m"
      },
      "source": [
        "This manually calls the `text_to_speech` function (which is wrapped in the LangChain tool `gtts_tool`) with the generated `response_text`.\n",
        "The function converts the text into speech and saves the MP3 file. The returned filename (`response.mp3`) is stored in `response_from_tool`.\n",
        "\n",
        "The `ipd.Audio()` function is used to play the MP3 file directly within the Jupyter notebook.\n",
        "The filename (`response_from_tool`, which is \"`response.mp3`\") is passed to this function to load and play the audio."
      ]
    },
    {
      "cell_type": "code",
      "execution_count": null,
      "metadata": {
        "id": "eLOmo_kVpY3r"
      },
      "outputs": [],
      "source": [
        "# Manually invoke the custom gTTS tool\n",
        "# Directly call the tool's function with the generated text\n",
        "response_from_tool = gtts_tool.func(response_text)  # Calling the gTTS tool directly\n",
        "ipd.Audio(filename=response_from_tool)\n"
      ]
    }
  ],
  "metadata": {
    "colab": {
      "provenance": [],
      "collapsed_sections": [
        "aiuHoVgAW58K",
        "ApcrD_OGX7Mb"
      ],
      "toc_visible": true
    },
    "kernelspec": {
      "display_name": "Python 3",
      "name": "python3"
    },
    "language_info": {
      "name": "python"
    }
  },
  "nbformat": 4,
  "nbformat_minor": 0
}