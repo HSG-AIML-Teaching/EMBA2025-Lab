{
  "cells": [
    {
      "cell_type": "markdown",
      "metadata": {
        "id": "wiNxA5Xmrv21"
      },
      "source": [
        "# Exercise 1\n",
        "\n",
        "白日依山尽，黃河入海流；欲穷千里目，更上一层楼。\n",
        "\n",
        "This is a famous Chinese poem written during the Tang Dynasty. To truly appreciate it, use the API offered by OpenAI to:\n",
        "\n",
        "(1) translate it into English and print out the translation,\n",
        "\n",
        "(2) explain its meaning in English in at most 50 words and print out the explanation,\n",
        "\n",
        "(3) generate an audio file in which the poem is recited in its original language, and then it is explained in English.\n",
        "\n",
        "You can use the code below as your starting point:"
      ]
    },
    {
      "cell_type": "markdown",
      "source": [
        "### Setup\n",
        "\n",
        "First, make the necessary imports."
      ],
      "metadata": {
        "id": "gGP4cvO9ZZTA"
      }
    },
    {
      "cell_type": "code",
      "source": [
        "!pip install openai\n",
        "\n",
        "from google.colab import userdata\n",
        "import os\n",
        "from pathlib import Path\n",
        "from openai import OpenAI\n",
        "import IPython.display as ipd\n",
        "import getpass\n",
        "from PIL import Image\n",
        "import urllib.request"
      ],
      "metadata": {
        "id": "l3UXsNbxZSlu"
      },
      "execution_count": null,
      "outputs": []
    },
    {
      "cell_type": "markdown",
      "source": [
        "Then, assign the API key for OpenAI.\n",
        "\n",
        "When working with sensitive information like API keys or passwords in Google Colab, it's crucial to handle data securely. As you learnt in the tutorial session, two common approaches for this are using Colab's Secrets Manager, which stores and retrieves secrets without exposing them in the notebook, and `getpass`, a Python function that securely prompts users to input secrets during runtime without showing them. Both methods help ensure your sensitive data remains protected.\n"
      ],
      "metadata": {
        "id": "FhG09DRZaA5V"
      }
    },
    {
      "cell_type": "code",
      "source": [
        "#When using Colab Secret Manager\n",
        "os.environ[\"OPENAI_API_KEY\"] = userdata.get('OPENAI_API_KEY')\n",
        "#When using getpass\n",
        "#os.environ['OPENAI_API_KEY'] = getpass.getpass()\n",
        "\n",
        "client = OpenAI()"
      ],
      "metadata": {
        "id": "zLzC1fJjZWsD"
      },
      "execution_count": null,
      "outputs": []
    },
    {
      "cell_type": "markdown",
      "source": [
        "### Step 1. Translation and Explanation Using OpenAI Chat Completions API\n",
        "\n",
        "This is your starting point, with the original poem in `original_text`."
      ],
      "metadata": {
        "id": "iKA4bTouZdiq"
      }
    },
    {
      "cell_type": "code",
      "source": [
        "originalText = '白日依山尽，黃河入海流；欲穷千里目，更上一层楼。'"
      ],
      "metadata": {
        "id": "ngnR1FzJ-Ht8"
      },
      "execution_count": null,
      "outputs": []
    },
    {
      "cell_type": "markdown",
      "source": [
        "Define a function `translateFromChineseToEnglish` that uses the Chat Completions API with `gpt-4o` as the model to translate from Chinese to English.\n",
        "\n",
        "**Hint:** first, use a developer message to instruct the model that you will provide it a poem in Chinese and you want it to be translated into English; then, use a user message to pass the poem as parameter."
      ],
      "metadata": {
        "id": "-rhpqFiKaOvR"
      }
    },
    {
      "cell_type": "code",
      "source": [
        "# Use the Chat Completions API to translate the poem\n",
        "def translateFromChineseToEnglish(text):\n",
        "  ## YOUR CODE (START)\n",
        "  response = client.chat.completions.create(\n",
        "  model=\"gpt-4o-mini\",\n",
        "  messages=[\n",
        "    {\n",
        "      \"role\": \"developer\",\n",
        "      \"content\": \"You will be provided with a poem in Chinese, and your task is to translate it into English.\"\n",
        "    },\n",
        "    {\n",
        "      \"role\": \"user\",\n",
        "      \"content\": text\n",
        "    }\n",
        "  ],\n",
        "  temperature=0.7,\n",
        "  max_tokens=64,\n",
        "  )\n",
        "  ## YOUR CODE (END)\n",
        "  return response.choices[0].message.content"
      ],
      "metadata": {
        "id": "ywR6nxXu-lzO"
      },
      "execution_count": null,
      "outputs": []
    },
    {
      "cell_type": "markdown",
      "source": [
        "Define a function `explainMeaning` that uses the Chat Completions API with `gpt-4o` as the model to the meaning of the poem.\n",
        "\n",
        "**Hint:** first, use a developer message to instruct the model that you will provide it the English translation of a Chinese poem and you want it to be explained in max. 50 words; then, use a user message to pass the translated poem as parameter."
      ],
      "metadata": {
        "id": "DV-3tLuabLp6"
      }
    },
    {
      "cell_type": "code",
      "source": [
        "# Use Chat Completions API to explain the meaning of the poem\n",
        "def explainMeaning(text):\n",
        "  ## YOUR CODE (START)\n",
        "  response = client.chat.completions.create(\n",
        "  model=\"gpt-4o-mini\",\n",
        "  messages=[\n",
        "    {\n",
        "      \"role\": \"developer\",\n",
        "      \"content\": \"You will be provided the English translation of a Chinese poem. Explain the meaning of the poem in no more than 50 words.\"\n",
        "    },\n",
        "    {\n",
        "      \"role\": \"user\",\n",
        "      \"content\": text\n",
        "    }\n",
        "  ],\n",
        "  temperature=0.7,\n",
        "  max_tokens=64\n",
        "  )\n",
        "  ## YOUR CODE (END)\n",
        "  return response.choices[0].message.content"
      ],
      "metadata": {
        "id": "DBCf3v69_HgF"
      },
      "execution_count": null,
      "outputs": []
    },
    {
      "cell_type": "markdown",
      "source": [
        "Now that the two functions are defined, you can call them to obtain and print the translation and the explanation of the poem."
      ],
      "metadata": {
        "id": "EO0s49pMbpzi"
      }
    },
    {
      "cell_type": "code",
      "source": [
        "# Call function translateFromChineseToEnglish to obtain the translation\n",
        "translatedText = translateFromChineseToEnglish(originalText)\n",
        "\n",
        "# Call function explainMeaning to obtain the explanation\n",
        "explainedText = explainMeaning(translatedText)\n",
        "\n",
        "# Print the translation and the explanation\n",
        "print(translatedText)\n",
        "print(explainedText)"
      ],
      "metadata": {
        "id": "ohgYcMnuZ5Wx"
      },
      "execution_count": null,
      "outputs": []
    },
    {
      "cell_type": "markdown",
      "source": [
        "### Step 2. Speech Generation Using OpenAI Audio API\n",
        "\n",
        "Define a function `generateTextToSpeech` to generate an audio file `speech.mp3` using the Audio API with `tts-1` as the model and `alloy` as the voice."
      ],
      "metadata": {
        "id": "_0I0cXJUZwbq"
      }
    },
    {
      "cell_type": "code",
      "source": [
        "# Use the Audio API to generate text to speech\n",
        "def generateTextToSpeech(text):\n",
        "  speech_file_path = \"speech.mp3\"\n",
        "  ## YOUR CODE (START)\n",
        "  response = client.audio.speech.create(\n",
        "    model=\"tts-1\",\n",
        "    voice=\"alloy\",\n",
        "    input=text\n",
        "  )\n",
        "  response.stream_to_file(speech_file_path)\n",
        "  ## YOUR CODE (END)\n",
        "  return speech_file_path"
      ],
      "metadata": {
        "id": "htvehRCy_X5g"
      },
      "execution_count": null,
      "outputs": []
    },
    {
      "cell_type": "markdown",
      "source": [
        "Now that the function is defined, call it passing the original poem text in Chinese and the explanation in English."
      ],
      "metadata": {
        "id": "5UsmXMGqcnoL"
      }
    },
    {
      "cell_type": "code",
      "source": [
        "# Call the generateTextToSpeech function to obtain the audio\n",
        "fileName = generateTextToSpeech(originalText + explainedText)\n",
        "\n",
        "# Present the audio file\n",
        "ipd.Audio(filename=fileName)"
      ],
      "metadata": {
        "id": "MvcV0DRZ_1qw"
      },
      "execution_count": null,
      "outputs": []
    },
    {
      "cell_type": "markdown",
      "source": [
        "### Step 3. Image Generation Using OpenAI Images API\n",
        "\n",
        "Using the Images API with `DALL-E-3` as the model, define a function `generatePoemImage` to generate a 1024x1024 image."
      ],
      "metadata": {
        "id": "d44hTwHDAEkI"
      }
    },
    {
      "cell_type": "code",
      "source": [
        "## use the Images API with dall-e-3 to generate and image based on the poem\n",
        "def generatePoemImage(prompt):\n",
        "  ## YOUR CODE (START)\n",
        "  response = client.images.generate(\n",
        "    model=\"dall-e-3\",\n",
        "    prompt=prompt,\n",
        "    size=\"1024x1024\",\n",
        "    quality=\"standard\",\n",
        "    n=1,\n",
        "  )\n",
        "  ## YOUR CODE (END)\n",
        "  return response.data[0].url"
      ],
      "metadata": {
        "id": "tTiJvvAa_6zw"
      },
      "execution_count": null,
      "outputs": []
    },
    {
      "cell_type": "markdown",
      "source": [
        "Now that the function is defined, call it passing as parameter the English translation of the poem."
      ],
      "metadata": {
        "id": "va0hKCDCdLKV"
      }
    },
    {
      "cell_type": "code",
      "source": [
        "# Call the generatePoemImage function to generate the image\n",
        "poem_Image_Uri = generatePoemImage(translatedText)"
      ],
      "metadata": {
        "id": "Gk-0c6ftAfPo"
      },
      "execution_count": null,
      "outputs": []
    },
    {
      "cell_type": "markdown",
      "source": [
        "Open and display the image that is stored at `poem_Image_Uri`."
      ],
      "metadata": {
        "id": "ExHN-5m7dSoG"
      }
    },
    {
      "cell_type": "code",
      "source": [
        "# Open the image given its URL\n",
        "## YOUR CODE (START)\n",
        "with urllib.request.urlopen(poem_Image_Uri) as url:\n",
        "    img=Image.open(url)\n",
        "    display(img)\n",
        "## YOUR CODE (END)"
      ],
      "metadata": {
        "id": "8KHFuToLAyIT"
      },
      "execution_count": null,
      "outputs": []
    },
    {
      "cell_type": "markdown",
      "source": [
        "# Exercise 2\n",
        "\n",
        "In this exercise, you will get inspiration for cooking dinner based on the ingredients at your disposal in the fridge.\n",
        "\n",
        "(1) You will first analyze a picture of the fridge, then\n",
        "\n",
        "(2) use the Chat Completions API to generate a recipe and\n",
        "\n",
        "(3) a name for the dish, and finally\n",
        "\n",
        "(4) you will use Dall-E-3 to generate a picture of the dish.\n",
        "\n",
        "To accomplish this, you can expand the code provided below:"
      ],
      "metadata": {
        "id": "9Yjo4E-4zJwn"
      }
    },
    {
      "cell_type": "markdown",
      "source": [
        "### Setup\n",
        "\n",
        "First, make the necessary imports."
      ],
      "metadata": {
        "id": "vtXgnj7WzzYM"
      }
    },
    {
      "cell_type": "code",
      "source": [
        "!pip install openai\n",
        "\n",
        "from google.colab import userdata\n",
        "import os\n",
        "from pathlib import Path\n",
        "from openai import OpenAI\n",
        "import IPython.display as ipd\n",
        "import getpass\n",
        "from PIL import Image\n",
        "import urllib.request"
      ],
      "metadata": {
        "id": "9J_xr8tK0sEL"
      },
      "execution_count": null,
      "outputs": []
    },
    {
      "cell_type": "markdown",
      "source": [
        "Then, assign the API key for OpenAI."
      ],
      "metadata": {
        "id": "uMvGpUTTd23y"
      }
    },
    {
      "cell_type": "code",
      "source": [
        "#When using Colab Secret Manager\n",
        "os.environ[\"OPENAI_API_KEY\"] = userdata.get('OPENAI_API_KEY')\n",
        "#When using getpass\n",
        "#os.environ['OPENAI_API_KEY'] = getpass.getpass()\n",
        "\n",
        "client = OpenAI()"
      ],
      "metadata": {
        "id": "vM3jEwUid5IA"
      },
      "execution_count": null,
      "outputs": []
    },
    {
      "cell_type": "markdown",
      "source": [
        "This is your starting point, with a picture of the fridge contents specified in a URI."
      ],
      "metadata": {
        "id": "MEL0VLAk6J7z"
      }
    },
    {
      "cell_type": "code",
      "source": [
        "uri = 'https://hips.hearstapps.com/hmg-prod/images/open-refrigerator-filled-with-fresh-fruits-and-royalty-free-image-1727120488.jpg?crop=1.00xw:0.752xh;0,0&resize=1200:*'\n",
        "with urllib.request.urlopen(uri) as url:\n",
        "    img=Image.open(url)\n",
        "    display(img)"
      ],
      "metadata": {
        "id": "wwVO9iyD4HZ5"
      },
      "execution_count": null,
      "outputs": []
    },
    {
      "cell_type": "markdown",
      "metadata": {
        "id": "a-PNUE5U6Lmf"
      },
      "source": [
        "### Step 1. Using Chat Completions API to Identify Ingredients\n",
        "\n",
        "Define a function that uses the Chat Completions API with `gpt-4o` as the model for listing the ingredients visible in the picture at the specified URI."
      ]
    },
    {
      "cell_type": "code",
      "source": [
        "# Add your code to list the ingredients visible in the picture at the specified URI.\n",
        "def listIngredients(uri):\n",
        "  ## YOUR CODE (START)\n",
        "  response = client.chat.completions.create(\n",
        "    model=\"gpt-4o\",\n",
        "    messages=[\n",
        "      {\n",
        "        \"role\": \"user\",\n",
        "        \"content\": [\n",
        "          {\"type\": \"text\", \"text\": \"List the ingredients visible in this image.\"},\n",
        "          {\n",
        "            \"type\": \"image_url\",\n",
        "            \"image_url\": {\n",
        "              \"url\": uri,\n",
        "            },\n",
        "          },\n",
        "        ],\n",
        "      }\n",
        "    ],\n",
        "    max_tokens=300,\n",
        "  )\n",
        "  ## YOUR CODE (END)\n",
        "  return response.choices[0].message.content"
      ],
      "metadata": {
        "id": "Y_efxRZE0_Wd"
      },
      "execution_count": null,
      "outputs": []
    },
    {
      "cell_type": "markdown",
      "source": [
        "Now that the function is defined, call it to obtain the list of available ingredients into a variable `ingredients`."
      ],
      "metadata": {
        "id": "wj3Uix62eULX"
      }
    },
    {
      "cell_type": "code",
      "source": [
        "#Call the listIngredients function to get the ingredients\n",
        "ingredients = listIngredients(uri)\n",
        "\n",
        "# Print the ingredients\n",
        "print(ingredients)"
      ],
      "metadata": {
        "id": "RZEERa7a1BWk"
      },
      "execution_count": null,
      "outputs": []
    },
    {
      "cell_type": "markdown",
      "source": [
        "### Step 2. Using Chat Completions API to Create Recipe\n",
        "\n",
        "Next, prompt the Chat Completions API to create a recipe based on the ingredients. Use `gpt-4o-mini` as model.\n",
        "\n",
        "**Hint:** first use a developer message to instruct the model to behave like a professional chef, and that using only the following list of ingredients it should create a step-by-step recipe; then, use a user message to pass the list of ingredients."
      ],
      "metadata": {
        "id": "OEXE7DCc1H_t"
      }
    },
    {
      "cell_type": "code",
      "source": [
        "# Add your code to create a recipe based on the ingredients\n",
        "def createRecipe(ingredients):\n",
        "  ## YOUR CODE (START)\n",
        "  response = client.chat.completions.create(\n",
        "    model=\"gpt-4o-mini\",\n",
        "    messages=[\n",
        "      {\"role\": \"developer\", \"content\": \"You are a professional chef. Using only the following list of ingredients, you should create a dish. Provide a step by step recipe.\"},\n",
        "      {\"role\": \"user\", \"content\": ingredients},\n",
        "    ],\n",
        "    temperature=1.2\n",
        "  )\n",
        "  ## YOUR CODE (END)\n",
        "  return response.choices[0].message.content"
      ],
      "metadata": {
        "id": "dgen4lIb1aCD"
      },
      "execution_count": null,
      "outputs": []
    },
    {
      "cell_type": "markdown",
      "source": [
        "Now that the function is defined, call it passing `ingredients` as parameter and print the resulting recipe."
      ],
      "metadata": {
        "id": "jpZwT46AfHp7"
      }
    },
    {
      "cell_type": "code",
      "source": [
        "# Call the createRecipe function to get the recipe\n",
        "recipe = createRecipe(ingredients)\n",
        "\n",
        "# Print the recipe\n",
        "print(recipe)"
      ],
      "metadata": {
        "id": "DpdQPaE41eS3"
      },
      "execution_count": null,
      "outputs": []
    },
    {
      "cell_type": "markdown",
      "source": [
        "### Step 3. Using Chat Completions API to Generate Dish Name\n",
        "\n",
        "Now use again the Chat Completions API along with the `gpt-40-mini` model to generate a name for the dish.\n",
        "\n",
        "**Hint:** use a developer message to instruct the model what to do; then use a user message to pass the recipe."
      ],
      "metadata": {
        "id": "XdeHuBxl1rdl"
      }
    },
    {
      "cell_type": "code",
      "source": [
        "# Add your code here to generate a name for the dish\n",
        "def generateDishName(recipe):\n",
        "  ## YOUR CODE (START)\n",
        "  response = client.chat.completions.create(\n",
        "    model=\"gpt-4o\",\n",
        "    messages=[\n",
        "      {\"role\": \"developer\", \"content\": \"What do you call this dish? Be creative with the name.\"},\n",
        "      {\"role\": \"user\", \"content\": recipe}\n",
        "    ],\n",
        "    temperature=0.9\n",
        "  )\n",
        "  ## YOUR CODE (END)\n",
        "  dishName = response.choices[0].message.content\n",
        "  return dishName"
      ],
      "metadata": {
        "id": "8FkixjkT15zs"
      },
      "execution_count": null,
      "outputs": []
    },
    {
      "cell_type": "markdown",
      "source": [
        "Now that the function is defined, call it passing `recipe` as parameter to obtain the dish name."
      ],
      "metadata": {
        "id": "gdMxTeHFfn13"
      }
    },
    {
      "cell_type": "code",
      "source": [
        "# Call the generateDishName function to get the dish name\n",
        "dishName = generateDishName(recipe)\n",
        "\n",
        "# Print the dish name\n",
        "print(dishName)"
      ],
      "metadata": {
        "id": "E56Mdbgt18DT"
      },
      "execution_count": null,
      "outputs": []
    },
    {
      "cell_type": "markdown",
      "source": [
        "### Step 4. Image Generation Using OpenAI Images API\n",
        "\n",
        "Now use the OpenAI Images API with `dall-e-3` as the model to create an image using the name of the dish as prompt."
      ],
      "metadata": {
        "id": "oD_grWwI2GgD"
      }
    },
    {
      "cell_type": "code",
      "source": [
        "# Add your code here to generate an image using the Images API with Dall-E-3 based on the prompt\n",
        "def generateDishImage(prompt):\n",
        "  ## YOUR CODE (START)\n",
        "  response = client.images.generate(\n",
        "    model=\"dall-e-3\",\n",
        "    prompt=prompt,\n",
        "    size=\"1024x1024\",\n",
        "    quality=\"standard\",\n",
        "    n=1,\n",
        "  )\n",
        "  ## YOUR CODE (END)\n",
        "  return response.data[0].url"
      ],
      "metadata": {
        "id": "u2mGh6at2od5"
      },
      "execution_count": null,
      "outputs": []
    },
    {
      "cell_type": "markdown",
      "source": [
        "Now that the function is defined, call it to generate the dish image."
      ],
      "metadata": {
        "id": "1O5DVYQ5f-96"
      }
    },
    {
      "cell_type": "code",
      "source": [
        "# Call the generateDishImage function to generate the image\n",
        "dish_Image_Uri = generateDishImage(dishName)"
      ],
      "metadata": {
        "id": "LxgSx1X-3Krc"
      },
      "execution_count": null,
      "outputs": []
    },
    {
      "cell_type": "markdown",
      "source": [
        "Finally, display the image of the dish given its URL."
      ],
      "metadata": {
        "id": "99ndqGvb5pHI"
      }
    },
    {
      "cell_type": "code",
      "source": [
        "# Add your code here to display the image\n",
        "## YOUR CODE (START)\n",
        "with urllib.request.urlopen(dish_Image_Uri) as url:\n",
        "    img=Image.open(url)\n",
        "    display(img)\n",
        "## YOUR CODE (END)"
      ],
      "metadata": {
        "id": "vtR0AOVl3SSh"
      },
      "execution_count": null,
      "outputs": []
    }
  ],
  "metadata": {
    "colab": {
      "provenance": [],
      "collapsed_sections": [
        "gGP4cvO9ZZTA"
      ]
    },
    "kernelspec": {
      "display_name": "Python 3",
      "name": "python3"
    },
    "language_info": {
      "name": "python"
    }
  },
  "nbformat": 4,
  "nbformat_minor": 0
}