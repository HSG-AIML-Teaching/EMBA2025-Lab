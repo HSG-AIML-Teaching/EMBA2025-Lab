{
  "cells": [
    {
      "cell_type": "markdown",
      "source": [
        "# My awesome LLM-Application"
      ],
      "metadata": {
        "id": "v7iWPXagdQhK"
      }
    },
    {
      "cell_type": "markdown",
      "source": [
        "###Setup\n",
        "First, make the necessary imports."
      ],
      "metadata": {
        "id": "asugYFtKJUsQ"
      }
    },
    {
      "cell_type": "code",
      "execution_count": 3,
      "metadata": {
        "id": "6iiGJtSmt1H5"
      },
      "outputs": [],
      "source": [
        "!pip install -q langchain langchain-community langchain-core langchain-openai langchain-huggingface\n",
        "\n",
        "from google.colab import userdata\n",
        "from langchain.chains import SequentialChain, LLMChain\n",
        "from langchain_core.prompts import PromptTemplate\n",
        "from langchain_community.utilities import GoogleSerperAPIWrapper\n",
        "from langchain_openai import ChatOpenAI\n",
        "import os\n",
        "import pprint\n",
        "import getpass\n",
        "from IPython.display import Markdown\n",
        "import IPython.display as ipd\n",
        "from PIL import Image\n",
        "import urllib.request"
      ]
    },
    {
      "cell_type": "markdown",
      "source": [
        "Then, assign the API keys to be able to use OpenAI, Google Serper, Huggingface, etc.\n",
        "\n",
        "When working with sensitive information like API keys or passwords in Google Colab, it's crucial to handle data securely. As you learnt in the tutorial session, two common approaches for this are using **Colab's Secrets Manager**, which stores and retrieves secrets without exposing them in the notebook, and `getpass`, a Python function that securely prompts users to input secrets during runtime without showing them. Both methods help ensure your sensitive data remains protected."
      ],
      "metadata": {
        "id": "qviEHKsjTZ1a"
      }
    },
    {
      "cell_type": "code",
      "source": [
        "#You can remove the keys you will not use\n",
        "\n",
        "#When using Colab Secret Manager\n",
        "os.environ[\"OPENAI_API_KEY\"] = userdata.get('OPENAI_API_KEY')\n",
        "#When using getpass\n",
        "#os.environ['OPENAI_API_KEY'] = getpass.getpass()\n",
        "\n",
        "#When using Colab Secret Manager\n",
        "os.environ[\"SERPER_API_KEY\"] = userdata.get('SERPER_API_KEY')\n",
        "#When using getpass\n",
        "#os.environ['SERPER_API_KEY'] = getpass.getpass()\n",
        "\n",
        "#When using Colab Secret Manager\n",
        "os.environ[\"HF_TOKEN\"] = userdata.get('HF_TOKEN')\n",
        "#When using getpass\n",
        "#os.environ['HF_TOKEN'] = getpass.getpass()"
      ],
      "metadata": {
        "id": "9h1QKVPyTYTL"
      },
      "execution_count": 2,
      "outputs": []
    }
  ],
  "metadata": {
    "colab": {
      "provenance": []
    },
    "kernelspec": {
      "display_name": "Python 3",
      "name": "python3"
    },
    "language_info": {
      "name": "python"
    }
  },
  "nbformat": 4,
  "nbformat_minor": 0
}